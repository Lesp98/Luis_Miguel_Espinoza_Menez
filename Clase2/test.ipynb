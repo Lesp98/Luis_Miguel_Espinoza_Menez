{
  "nbformat": 4,
  "nbformat_minor": 0,
  "metadata": {
    "colab": {
      "name": "Untitled0.ipynb",
      "provenance": [],
      "include_colab_link": true
    },
    "kernelspec": {
      "name": "python3",
      "display_name": "Python 3"
    },
    "language_info": {
      "name": "python"
    }
  },
  "cells": [
    {
      "cell_type": "markdown",
      "metadata": {
        "id": "view-in-github",
        "colab_type": "text"
      },
      "source": [
        "<a href=\"https://colab.research.google.com/github/Lesp98/Prueba_Python/blob/main/Clase2/test.ipynb\" target=\"_parent\"><img src=\"https://colab.research.google.com/assets/colab-badge.svg\" alt=\"Open In Colab\"/></a>"
      ]
    },
    {
      "cell_type": "code",
      "execution_count": null,
      "metadata": {
        "colab": {
          "base_uri": "https://localhost:8080/"
        },
        "id": "8QdgZVbuL_oe",
        "outputId": "8d8431d7-3b0d-42e7-a628-e69b1426f785"
      },
      "outputs": [
        {
          "output_type": "execute_result",
          "data": {
            "text/plain": [
              "2"
            ]
          },
          "metadata": {},
          "execution_count": 1
        }
      ],
      "source": [
        "1 + 1"
      ]
    },
    {
      "cell_type": "code",
      "source": [
        "print(\"hola CTIC-UNI\")"
      ],
      "metadata": {
        "colab": {
          "base_uri": "https://localhost:8080/"
        },
        "id": "ieNYsg6TMHw4",
        "outputId": "40181e33-1b09-43fd-d96c-535786fe70a7"
      },
      "execution_count": null,
      "outputs": [
        {
          "output_type": "stream",
          "name": "stdout",
          "text": [
            "hola CTIC-UNI\n"
          ]
        }
      ]
    },
    {
      "cell_type": "code",
      "source": [
        "print('este es mi avance del día')"
      ],
      "metadata": {
        "id": "qedObz3yNY_R",
        "outputId": "fd56aae7-39dd-4aea-8e62-d48afbd26b02",
        "colab": {
          "base_uri": "https://localhost:8080/"
        }
      },
      "execution_count": null,
      "outputs": [
        {
          "output_type": "stream",
          "name": "stdout",
          "text": [
            "este es mi avance del día\n"
          ]
        }
      ]
    },
    {
      "cell_type": "markdown",
      "source": [
        "**Ejercicio 1**\n",
        "\n",
        "Imagina que un extraterrestre acaba de ser derribado en un juego. Cree una variable llamada alien_color y asígnele un valor de 'verde', 'amarillo' o 'rojo'.\n",
        "\n",
        "Escribe una declaración if para probar si el color del extraterrestre es verde. Si es así, imprime un mensaje de que el jugador acaba de ganar 5 puntos."
      ],
      "metadata": {
        "id": "JWx9zeu5urrQ"
      }
    },
    {
      "cell_type": "code",
      "source": [
        "alien_color = str(input('Ingrese el color del alienígena: '))\n",
        "\n",
        "if alien_color == 'verde':\n",
        "   print('¡ACABAS DE GANAR 5 PUNTOS!')\n",
        "else:\n",
        "  print('Intenta de nuevo')"
      ],
      "metadata": {
        "id": "NBEIldpvu1Yh",
        "outputId": "e36f4098-5e1c-4ee7-fd9f-ab56ddd036b1",
        "colab": {
          "base_uri": "https://localhost:8080/"
        }
      },
      "execution_count": 6,
      "outputs": [
        {
          "output_type": "stream",
          "name": "stdout",
          "text": [
            "Ingrese el color del alienígena: amarillo\n",
            "Intenta de nuevo\n"
          ]
        }
      ]
    },
    {
      "cell_type": "markdown",
      "source": [
        "**Ejercicio 2**\n",
        "\n",
        "Elija un color para un extraterrestre como lo hizo en el Ejercicio 5-3 y escriba una cadena if-else.\n",
        "\n",
        "Si el alienígena es verde, imprime un mensaje de que el jugador obtuvo 5 puntos. Si el alienígena es amarillo, imprime un mensaje de que el jugador obtuvo 10 puntos. Si el alienígena es rojo, imprime un mensaje de que el jugador obtuvo 15 puntos."
      ],
      "metadata": {
        "id": "KGiIjQ62wGp_"
      }
    },
    {
      "cell_type": "code",
      "source": [
        "alien_color = str(input('Ingrese el color del alienígena: '))\n",
        "\n",
        "if alien_color == 'verde':\n",
        "  print('¡ACABAS DE GANAR 5 PUNTOS!')\n",
        "elif alien_color == 'amarillo':\n",
        "  print('¡ACABAS DE GANAR 10 PUNTOS!')\n",
        "elif alien_color == 'rojo':\n",
        "  print('¡ACABAS DE GANAR 15 PUNTOS!')"
      ],
      "metadata": {
        "id": "3aEppt5dwLDv",
        "outputId": "ad408b64-6d6d-4ec6-bcc6-f3179f1900e7",
        "colab": {
          "base_uri": "https://localhost:8080/"
        }
      },
      "execution_count": 5,
      "outputs": [
        {
          "output_type": "stream",
          "name": "stdout",
          "text": [
            "Ingrese el color del alienígena: verde\n",
            "¡ACABAS DE GANAR 5 PUNTOS!\n"
          ]
        }
      ]
    }
  ]
}