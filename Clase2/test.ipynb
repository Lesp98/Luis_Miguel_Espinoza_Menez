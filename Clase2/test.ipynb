{
  "nbformat": 4,
  "nbformat_minor": 0,
  "metadata": {
    "colab": {
      "name": "Untitled0.ipynb",
      "provenance": [],
      "include_colab_link": true
    },
    "kernelspec": {
      "name": "python3",
      "display_name": "Python 3"
    },
    "language_info": {
      "name": "python"
    }
  },
  "cells": [
    {
      "cell_type": "markdown",
      "metadata": {
        "id": "view-in-github",
        "colab_type": "text"
      },
      "source": [
        "<a href=\"https://colab.research.google.com/github/Lesp98/Luis_Miguel_Espinoza_Menez/blob/main/Clase2/test.ipynb\" target=\"_parent\"><img src=\"https://colab.research.google.com/assets/colab-badge.svg\" alt=\"Open In Colab\"/></a>"
      ]
    },
    {
      "cell_type": "code",
      "execution_count": null,
      "metadata": {
        "colab": {
          "base_uri": "https://localhost:8080/"
        },
        "id": "8QdgZVbuL_oe",
        "outputId": "8d8431d7-3b0d-42e7-a628-e69b1426f785"
      },
      "outputs": [
        {
          "output_type": "execute_result",
          "data": {
            "text/plain": [
              "2"
            ]
          },
          "metadata": {},
          "execution_count": 1
        }
      ],
      "source": [
        "1 + 1"
      ]
    },
    {
      "cell_type": "code",
      "source": [
        "print(\"hola CTIC-UNI\")"
      ],
      "metadata": {
        "colab": {
          "base_uri": "https://localhost:8080/"
        },
        "id": "ieNYsg6TMHw4",
        "outputId": "40181e33-1b09-43fd-d96c-535786fe70a7"
      },
      "execution_count": null,
      "outputs": [
        {
          "output_type": "stream",
          "name": "stdout",
          "text": [
            "hola CTIC-UNI\n"
          ]
        }
      ]
    },
    {
      "cell_type": "code",
      "source": [
        "print('este es mi avance del día')"
      ],
      "metadata": {
        "id": "qedObz3yNY_R",
        "outputId": "fd56aae7-39dd-4aea-8e62-d48afbd26b02",
        "colab": {
          "base_uri": "https://localhost:8080/"
        }
      },
      "execution_count": null,
      "outputs": [
        {
          "output_type": "stream",
          "name": "stdout",
          "text": [
            "este es mi avance del día\n"
          ]
        }
      ]
    },
    {
      "cell_type": "markdown",
      "source": [
        "# **Probando múltiples condiciones**"
      ],
      "metadata": {
        "id": "u-Im7zCU5nhj"
      }
    },
    {
      "cell_type": "markdown",
      "source": [
        "**Ejercicio 1**\n",
        "\n",
        "Imagina que un extraterrestre acaba de ser derribado en un juego. Cree una variable llamada alien_color y asígnele un valor de 'verde', 'amarillo' o 'rojo'.\n",
        "\n",
        "Escribe una declaración if para probar si el color del extraterrestre es verde. Si es así, imprime un mensaje de que el jugador acaba de ganar 5 puntos."
      ],
      "metadata": {
        "id": "JWx9zeu5urrQ"
      }
    },
    {
      "cell_type": "code",
      "source": [
        "alien_color = str(input('Ingrese el color del alienígena: ')).lower()\n",
        "\n",
        "if alien_color == 'verde':\n",
        "   print('¡ACABAS DE GANAR 5 PUNTOS!')\n",
        "else:\n",
        "  print('Intenta de nuevo')"
      ],
      "metadata": {
        "colab": {
          "base_uri": "https://localhost:8080/"
        },
        "id": "NBEIldpvu1Yh",
        "outputId": "5a16bda1-e905-4926-9ebd-9df3d4985916"
      },
      "execution_count": null,
      "outputs": [
        {
          "output_type": "stream",
          "name": "stdout",
          "text": [
            "Ingrese el color del alienígena: VERDE\n",
            "¡ACABAS DE GANAR 5 PUNTOS!\n"
          ]
        }
      ]
    },
    {
      "cell_type": "markdown",
      "source": [
        "**Ejercicio 2**\n",
        "\n",
        "Elija un color para un extraterrestre como lo hizo en el Ejercicio 5-3 y escriba una cadena if-else.\n",
        "\n",
        "Si el alienígena es verde, imprime un mensaje de que el jugador obtuvo 5 puntos. Si el alienígena es amarillo, imprime un mensaje de que el jugador obtuvo 10 puntos. Si el alienígena es rojo, imprime un mensaje de que el jugador obtuvo 15 puntos."
      ],
      "metadata": {
        "id": "KGiIjQ62wGp_"
      }
    },
    {
      "cell_type": "code",
      "source": [
        "alien_color = str(input('Ingrese el color del alienígena: ')).lower()\n",
        "\n",
        "if alien_color == 'verde':\n",
        "  print('¡ACABAS DE GANAR 5 PUNTOS!')\n",
        "elif alien_color == 'amarillo':\n",
        "  print('¡ACABAS DE GANAR 10 PUNTOS!')\n",
        "elif alien_color == 'rojo':\n",
        "  print('¡ACABAS DE GANAR 15 PUNTOS!')"
      ],
      "metadata": {
        "colab": {
          "base_uri": "https://localhost:8080/"
        },
        "id": "3aEppt5dwLDv",
        "outputId": "fd51937a-91f0-48dd-d831-616ff9a0cef0"
      },
      "execution_count": null,
      "outputs": [
        {
          "output_type": "stream",
          "name": "stdout",
          "text": [
            "Ingrese el color del alienígena: AMARILLO\n",
            "¡ACABAS DE GANAR 10 PUNTOS!\n"
          ]
        }
      ]
    },
    {
      "cell_type": "markdown",
      "source": [
        "# **Evitando Loops infinitos**"
      ],
      "metadata": {
        "id": "VfBLYZIx3rgc"
      }
    },
    {
      "cell_type": "markdown",
      "source": [
        "**Ejercicio 1**\n",
        "\n",
        "Escriba un ciclo que solicite al usuario que ingrese una serie de ingredientes para la pizza hasta que ingrese un valor de 'salir'. A medida que ingresen cada ingrediente, imprima un mensaje que diga que agregará ese ingrediente a su pizza."
      ],
      "metadata": {
        "id": "ezANgowE3vng"
      }
    },
    {
      "cell_type": "code",
      "source": [
        "prompt = 'Agregue ingredientes\\n'\n",
        "prompt += 'Si no desea agregar más ingredientes digite \"salir\": \\n'\n",
        "print(prompt)\n",
        "\n",
        "while True:\n",
        "  ingrediente = input().lower()\n",
        "\n",
        "  if ingrediente == 'salir':\n",
        "    break\n",
        "  else:\n",
        "    print(f\"Agregando {ingrediente}\\n\")\n",
        "  \n",
        "print('\\nPizza finalizada')"
      ],
      "metadata": {
        "colab": {
          "base_uri": "https://localhost:8080/"
        },
        "id": "kM1zfb7Z3ysx",
        "outputId": "da579def-a489-4c03-d063-14a8b92050e9"
      },
      "execution_count": null,
      "outputs": [
        {
          "output_type": "stream",
          "name": "stdout",
          "text": [
            "Agregue ingredientes\n",
            "Si no desea agregar más ingredientes digite \"salir\": \n",
            "\n",
            "peperoni\n",
            "Agregando peperoni\n",
            "\n",
            "CHAMPIÑONES\n",
            "Agregando champiñones\n",
            "\n",
            "Salir\n",
            "\n",
            "Pizza finalizada\n"
          ]
        }
      ]
    },
    {
      "cell_type": "markdown",
      "source": [
        "**Ejercicio 2**\n",
        "\n",
        "Un cine cobra diferentes precios de boletos dependiendo de la edad de una persona. Si una persona es menor de 3 años, la entrada es gratuita; si son entre 3 y 12, el boleto cuesta s/. 10; y si son mayores de 12 años, el boleto cuesta s/. 15. Escriba un ciclo en el que pregunte a los usuarios su edad y luego dígales el costo de su boleto de cine."
      ],
      "metadata": {
        "id": "ahoA26HK6KsQ"
      }
    },
    {
      "cell_type": "code",
      "source": [
        "prompt = 'Ingrese su edad: \\n'\n",
        "precio = ['gratis', f\"S/ {10}\", f\"S/ {15}\"]\n",
        "\n",
        "while True:\n",
        "  edad = int(input(prompt))\n",
        "\n",
        "  if edad <= 3:\n",
        "    print(f\"Su entrada es {precio[0]}\")\n",
        "    break\n",
        "  elif 3 < edad < 12:\n",
        "    print(f\"Su entrada cuesta {precio[1]}\")\n",
        "    break\n",
        "  elif edad >= 12:\n",
        "    print(f\"Su entrada cuesta {precio[2]}\")\n",
        "    break\n",
        "\n",
        "print(\"¡Vuelva pronto!\")"
      ],
      "metadata": {
        "colab": {
          "base_uri": "https://localhost:8080/"
        },
        "id": "GgueJLYF6PLi",
        "outputId": "ad122b19-f8a4-448f-aba9-a0527af32e5f"
      },
      "execution_count": null,
      "outputs": [
        {
          "output_type": "stream",
          "name": "stdout",
          "text": [
            "Ingrese su edad: \n",
            "12\n",
            "Su entrada cuesta S/ 15\n",
            "¡Vuelva pronto!\n"
          ]
        }
      ]
    },
    {
      "cell_type": "markdown",
      "source": [
        "# **Olvidando la identación**"
      ],
      "metadata": {
        "id": "D_Ge79TSCSgS"
      }
    },
    {
      "cell_type": "markdown",
      "source": [
        "**Ejercicio 1**\n",
        "\n",
        "Piensa en al menos tres tipos de tu pizza favorita. Almacene estos nombres de pizza en una lista y luego use un ciclo for para imprimir el nombre de cada pizza.\n",
        "\n",
        "Modifique su ciclo for para imprimir una oración usando el nombre de la pizza en lugar de imprimir solo el nombre de la pizza. Para cada pizza, debe tener una línea de salida que contenga una declaración simple como Me gusta la pizza de pepperoni. Agregue una línea al final de su programa, fuera del bucle for, que indique cuánto le gusta la pizza. El resultado debe constar de tres o más líneas sobre los tipos de pizza que te gustan y luego una oración adicional, como ¡Me encanta la pizza!"
      ],
      "metadata": {
        "id": "O2-dqWnjCY11"
      }
    },
    {
      "cell_type": "code",
      "source": [
        "pizzas = ['hawaiana', 'española', 'americana']\n",
        "\n",
        "for pizza in pizzas:\n",
        "  print(f\"La pizza {pizza} es de las más sabrosas\")\n",
        "  print(f\"Lo malo de la pizza {pizza} es que tiene mucha grasa\\n\")\n",
        "\n",
        "print('Mis favoritas son de Pizza Hut')"
      ],
      "metadata": {
        "id": "o1gvnsDkCWTa",
        "outputId": "2b3b5d19-59af-4fe2-beaf-5690c7e29e39",
        "colab": {
          "base_uri": "https://localhost:8080/"
        }
      },
      "execution_count": 26,
      "outputs": [
        {
          "output_type": "stream",
          "name": "stdout",
          "text": [
            "La pizza hawaiana es de las más sabrosas\n",
            "Lo malo de la pizza hawaiana es que tiene mucha grasa\n",
            "\n",
            "La pizza española es de las más sabrosas\n",
            "Lo malo de la pizza española es que tiene mucha grasa\n",
            "\n",
            "La pizza americana es de las más sabrosas\n",
            "Lo malo de la pizza americana es que tiene mucha grasa\n",
            "\n",
            "Mis favoritas son de Pizza Hut\n"
          ]
        }
      ]
    },
    {
      "cell_type": "markdown",
      "source": [
        "**Ejercicio 2**\n",
        "\n",
        "Piensa en al menos tres animales diferentes que tengan una característica común. Guarde los nombres de estos animales en una lista y luego use un ciclo for para imprimir el nombre de cada animal.\n",
        "\n",
        "Modifique su programa para imprimir una declaración sobre cada animal, como Un perro sería una gran mascota. Agregue una línea al final de su programa indicando lo que estos animales tienen en común. Podría escribir una oración como ¡Cualquiera de estos animales sería una gran mascota!"
      ],
      "metadata": {
        "id": "cBzqC7HfCaSt"
      }
    },
    {
      "cell_type": "code",
      "source": [
        "animales = ['gato', 'perro', 'erizo']\n",
        "\n",
        "for animal in animales:\n",
        "  print(f\"Los {animal}s son como peluches con vida\")\n",
        "  print(f\"El {animal} se la pasa la mayoría del tiempo descansando hasta que llega el dueño\\n\")\n",
        "\n",
        "print('No tendría problema en tener a alguno de estos animalitos de mascota')"
      ],
      "metadata": {
        "id": "DynVI4iECdT8",
        "outputId": "c0af9175-8df6-488e-e57b-731dac0253c7",
        "colab": {
          "base_uri": "https://localhost:8080/"
        }
      },
      "execution_count": 27,
      "outputs": [
        {
          "output_type": "stream",
          "name": "stdout",
          "text": [
            "Los gatos son como peluches con vida\n",
            "El gato se la pasa la mayoría del tiempo descansando hasta que llega el dueño\n",
            "\n",
            "Los perros son como peluches con vida\n",
            "El perro se la pasa la mayoría del tiempo descansando hasta que llega el dueño\n",
            "\n",
            "Los erizos son como peluches con vida\n",
            "El erizo se la pasa la mayoría del tiempo descansando hasta que llega el dueño\n",
            "\n",
            "No tendría problema en tener a alguno de estos animalitos de mascota\n"
          ]
        }
      ]
    }
  ]
}