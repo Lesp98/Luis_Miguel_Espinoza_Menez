{
  "nbformat": 4,
  "nbformat_minor": 0,
  "metadata": {
    "colab": {
      "name": "Untitled2.ipynb",
      "provenance": [],
      "collapsed_sections": [],
      "include_colab_link": true
    },
    "kernelspec": {
      "name": "python3",
      "display_name": "Python 3"
    },
    "language_info": {
      "name": "python"
    }
  },
  "cells": [
    {
      "cell_type": "markdown",
      "metadata": {
        "id": "view-in-github",
        "colab_type": "text"
      },
      "source": [
        "<a href=\"https://colab.research.google.com/github/Lesp98/Luis_Miguel_Espinoza_Menez/blob/main/Clase3/Functions.ipynb\" target=\"_parent\"><img src=\"https://colab.research.google.com/assets/colab-badge.svg\" alt=\"Open In Colab\"/></a>"
      ]
    },
    {
      "cell_type": "markdown",
      "source": [
        "# **Usando información dentro de funciones**"
      ],
      "metadata": {
        "id": "lSJ5sWEK3u3k"
      }
    },
    {
      "cell_type": "markdown",
      "source": [
        "**Ejercicio 1**\n",
        "\n",
        "Escriba una función llamada display_message() que imprima una oración que diga a todos lo que está aprendiendo en este capítulo. Llame a la función y asegúrese de que el mensaje se muestre correctamente."
      ],
      "metadata": {
        "id": "gm1Mwpft331l"
      }
    },
    {
      "cell_type": "code",
      "execution_count": null,
      "metadata": {
        "id": "VpeVIyRv3N7e"
      },
      "outputs": [],
      "source": [
        "def display_message():\n",
        "  \"This function displays information about what's being learnt at the moment\"\n",
        "  print(\"Estamos aprendiendo funciones en Python\")"
      ]
    },
    {
      "cell_type": "code",
      "source": [
        "display_message()"
      ],
      "metadata": {
        "colab": {
          "base_uri": "https://localhost:8080/"
        },
        "id": "Nj5HwoZ54Zzm",
        "outputId": "b6f75ea1-c8b7-4684-d236-61a47948c888"
      },
      "execution_count": null,
      "outputs": [
        {
          "output_type": "stream",
          "name": "stdout",
          "text": [
            "Estamos aprendiendo funciones en Python\n"
          ]
        }
      ]
    },
    {
      "cell_type": "markdown",
      "source": [
        "**Ejercicio 2**\n",
        "\n",
        "Escriba una función llamada favorite_book() que acepte un parámetro, título. La función debe imprimir un mensaje, como Uno de mis libros favoritos es Alicia en el país de las maravillas. Llame a la función, asegurándose de incluir el título de un libro como argumento en la llamada a la función."
      ],
      "metadata": {
        "id": "Jryu2zu236Ki"
      }
    },
    {
      "cell_type": "code",
      "source": [
        "def favorite_book(bookname):\n",
        "  \"This function prints your favorite book\"\n",
        "  print(f'Uno de mis libros favoritos es {bookname}')"
      ],
      "metadata": {
        "id": "HwR2REWQ4z-A"
      },
      "execution_count": null,
      "outputs": []
    },
    {
      "cell_type": "code",
      "source": [
        "favorite_book(\"Alicia en el país de las maravillas\")"
      ],
      "metadata": {
        "colab": {
          "base_uri": "https://localhost:8080/"
        },
        "id": "Lit6I9Ii6BcS",
        "outputId": "f9e3f726-c465-434d-d73e-d56f370212c1"
      },
      "execution_count": null,
      "outputs": [
        {
          "output_type": "stream",
          "name": "stdout",
          "text": [
            "Uno de mis libros favoritos es Alicia en el país de las maravillas\n"
          ]
        }
      ]
    },
    {
      "cell_type": "markdown",
      "source": [
        "**Ejercicio 1**\n",
        "\n",
        "Escribe una función llamada make_shirt() que acepte un tamaño y el texto de un mensaje que debería estar impreso en la camiseta. La función debe imprimir una oración que resuma el tamaño de la camisa y el mensaje impreso en ella.\n",
        "\n",
        "Llame a la función una vez usando argumentos posicionales para hacer una camisa. Llame a la función por segunda vez usando argumentos de palabras clave."
      ],
      "metadata": {
        "id": "DBHoSr1II8mL"
      }
    },
    {
      "cell_type": "code",
      "source": [
        "def make_shirt(size, message):\n",
        "  \"This function displays information about size and message printed in a shirt\"\n",
        "  print(f\"El tamaño de la camisa es {size} y el mensaje es {message}\")"
      ],
      "metadata": {
        "id": "VZ19KKWWJOIA"
      },
      "execution_count": null,
      "outputs": []
    },
    {
      "cell_type": "code",
      "source": [
        "make_shirt(\"M\", \"No Pain No Gain\")"
      ],
      "metadata": {
        "colab": {
          "base_uri": "https://localhost:8080/"
        },
        "id": "AZ5C97C-J5Tz",
        "outputId": "40128817-fcd0-462c-91c6-14376e492f12"
      },
      "execution_count": null,
      "outputs": [
        {
          "output_type": "stream",
          "name": "stdout",
          "text": [
            "El tamaño de la camisa es M y el mensaje es No Pain No Gain\n"
          ]
        }
      ]
    },
    {
      "cell_type": "code",
      "source": [
        "make_shirt(size = \"S\", message = \"Free hugs\")"
      ],
      "metadata": {
        "colab": {
          "base_uri": "https://localhost:8080/"
        },
        "id": "LO0i54e5KHsM",
        "outputId": "c973b5b3-8359-4dbd-e34b-26646b1200f3"
      },
      "execution_count": null,
      "outputs": [
        {
          "output_type": "stream",
          "name": "stdout",
          "text": [
            "El tamaño de la camisa es S y el mensaje es Free hugs\n"
          ]
        }
      ]
    },
    {
      "cell_type": "markdown",
      "source": [
        "**Ejercicio 2**\n",
        "\n",
        "Modifique la función make_shirt() para que las camisetas sean grandes por defecto con un mensaje que diga Me encanta Python. Haz una camiseta grande y una camiseta mediana con el mensaje predeterminado y una camiseta de cualquier tamaño con un mensaje diferente."
      ],
      "metadata": {
        "id": "ig6y061AJHix"
      }
    },
    {
      "cell_type": "code",
      "source": [
        "def make_shirt(size = \"G\", message = \"Me encanta Python\"):\n",
        "  \"This function displays information about size and message printed in a shirt\"\n",
        "  print(f\"El tamaño de la camisa es {size} y el mensaje es {message}\")"
      ],
      "metadata": {
        "id": "RNh1KhAxKaB0"
      },
      "execution_count": null,
      "outputs": []
    },
    {
      "cell_type": "code",
      "source": [
        "make_shirt()"
      ],
      "metadata": {
        "colab": {
          "base_uri": "https://localhost:8080/"
        },
        "id": "9aoPMwqsKyJw",
        "outputId": "61e6b293-6c08-4706-a3c2-8ea165460b9a"
      },
      "execution_count": null,
      "outputs": [
        {
          "output_type": "stream",
          "name": "stdout",
          "text": [
            "El tamaño de la camisa es G y el mensaje es Me encanta Python\n"
          ]
        }
      ]
    },
    {
      "cell_type": "code",
      "source": [
        "make_shirt(size = \"M\")"
      ],
      "metadata": {
        "colab": {
          "base_uri": "https://localhost:8080/"
        },
        "id": "CVTbuzHELONz",
        "outputId": "4e054e13-77e7-4459-a0b5-e8dd0af7facc"
      },
      "execution_count": null,
      "outputs": [
        {
          "output_type": "stream",
          "name": "stdout",
          "text": [
            "El tamaño de la camisa es M y el mensaje es Me encanta Python\n"
          ]
        }
      ]
    },
    {
      "cell_type": "code",
      "source": [
        "make_shirt(size = \"S\", message = \"Ay caramba!\")"
      ],
      "metadata": {
        "colab": {
          "base_uri": "https://localhost:8080/"
        },
        "id": "QnjfPSTHLRcr",
        "outputId": "40283122-46a3-4508-8d65-4c7dde811cc1"
      },
      "execution_count": null,
      "outputs": [
        {
          "output_type": "stream",
          "name": "stdout",
          "text": [
            "El tamaño de la camisa es S y el mensaje es Ay caramba!\n"
          ]
        }
      ]
    },
    {
      "cell_type": "markdown",
      "source": [
        "**Ejercicio 3**\n",
        "\n",
        "Escribe una función llamada describe_city() que acepte el nombre de una ciudad y su país. La función debe imprimir una oración simple, como Reykjavik está en Islandia. Asigne al parámetro para el país un valor predeterminado. Llame a su función para tres ciudades diferentes, al menos una de las cuales no se encuentra en el país predeterminado."
      ],
      "metadata": {
        "id": "bNnYBYUwJKhS"
      }
    },
    {
      "cell_type": "code",
      "source": [
        "def describe_city(city, country = \"Perú\"):\n",
        "  \"This function prints a city's country\"\n",
        "  print(f\"{city} está en {country}\")"
      ],
      "metadata": {
        "id": "bARKPB_qLaaw"
      },
      "execution_count": null,
      "outputs": []
    },
    {
      "cell_type": "code",
      "source": [
        "describe_city(\"Lima\")"
      ],
      "metadata": {
        "colab": {
          "base_uri": "https://localhost:8080/"
        },
        "id": "g0kiKT1vL1_r",
        "outputId": "8b5de26d-d587-4698-abb2-4ef93e7c4e6a"
      },
      "execution_count": null,
      "outputs": [
        {
          "output_type": "stream",
          "name": "stdout",
          "text": [
            "Lima está en Perú\n"
          ]
        }
      ]
    },
    {
      "cell_type": "code",
      "source": [
        "describe_city(city = \"Cusco\")"
      ],
      "metadata": {
        "colab": {
          "base_uri": "https://localhost:8080/"
        },
        "id": "OlyqRY0fL6ml",
        "outputId": "f6be8dee-626e-43e1-ac7a-780d761f125d"
      },
      "execution_count": null,
      "outputs": [
        {
          "output_type": "stream",
          "name": "stdout",
          "text": [
            "Cusco está en Perú\n"
          ]
        }
      ]
    },
    {
      "cell_type": "code",
      "source": [
        "describe_city(city = \"Berlín\", country = \"Alemania\")"
      ],
      "metadata": {
        "colab": {
          "base_uri": "https://localhost:8080/"
        },
        "id": "IlthLC26MC_K",
        "outputId": "4d3a8c36-8488-45f5-b7a5-d47bd93093bf"
      },
      "execution_count": null,
      "outputs": [
        {
          "output_type": "stream",
          "name": "stdout",
          "text": [
            "Berlín está en Alemania\n"
          ]
        }
      ]
    },
    {
      "cell_type": "markdown",
      "source": [
        "# **Usando funciones con loops while**"
      ],
      "metadata": {
        "id": "rntmjDOcWc8j"
      }
    },
    {
      "cell_type": "markdown",
      "source": [
        "**Ejercicio 1**\n",
        "\n",
        "Escribe una función llamada city_country() que tome el nombre de una ciudad y su país. La función debería devolver una cadena con el formato siguiente:\n",
        "\n",
        "\"Santiago, Chile\"\n",
        "\n",
        "Llame a su función con al menos tres pares de ciudades y países e imprima los valores que se devuelven."
      ],
      "metadata": {
        "id": "BBw0aU-vWjIt"
      }
    },
    {
      "cell_type": "code",
      "source": [
        "def get_city_country(city, country):\n",
        "    \"This function returns a the city and country previously inputted\"\n",
        "    city_n_country = f\"{city}, {country}\"\n",
        "    return city_n_country\n",
        "\n",
        "while True:\n",
        "    print('\\nEnter \"quit\" at any time to quit')\n",
        "    \n",
        "    city = input(\"City = \")\n",
        "    if city == \"quit\":\n",
        "      break\n",
        "\n",
        "    country = input(\"Country = \")\n",
        "    if country == \"quit\":\n",
        "      break\n",
        "\n",
        "    city_country = get_city_country(city.title(), country.title())\n",
        "    print(city_country)"
      ],
      "metadata": {
        "id": "gJC9CzhCWrgh",
        "outputId": "57909249-83af-49f0-a29f-4aae7d541922",
        "colab": {
          "base_uri": "https://localhost:8080/"
        }
      },
      "execution_count": null,
      "outputs": [
        {
          "name": "stdout",
          "output_type": "stream",
          "text": [
            "\n",
            "Enter \"quit\" at any time to quit\n",
            "City = santiago\n",
            "Country = chile\n",
            "Santiago, Chile\n",
            "\n",
            "Enter \"quit\" at any time to quit\n",
            "City = lima\n",
            "Country = perú\n",
            "Lima, Perú\n",
            "\n",
            "Enter \"quit\" at any time to quit\n",
            "City = berlín\n",
            "Country = alemania\n",
            "Berlín, Alemania\n",
            "\n",
            "Enter \"quit\" at any time to quit\n",
            "City = quit\n"
          ]
        }
      ]
    },
    {
      "cell_type": "markdown",
      "source": [
        "**Ejercicio 2**\n",
        "\n",
        "Escriba una función llamada make_album() que cree un diccionario que describa un álbum de música. La función debe tomar el nombre de un artista y el título de un álbum, y debe devolver un diccionario que contenga estos dos datos. Utilice la función para crear tres diccionarios que representen diferentes álbumes. Imprima cada valor devuelto para mostrar que los diccionarios están almacenando la información del álbum correctamente.\n",
        "\n",
        "Use None para agregar un parámetro opcional a make_album() que le permita almacenar la cantidad de canciones en un álbum. Si la línea de llamada incluye un valor para la cantidad de canciones, agregue ese valor al diccionario del álbum. Realice al menos una nueva llamada de función que incluya la cantidad de canciones en un álbum."
      ],
      "metadata": {
        "id": "QRBN3dWUWlvV"
      }
    },
    {
      "cell_type": "code",
      "source": [
        "def make_album(musician, a_title, n_songs = None):\n",
        "    \"This function creates a dictionary of musicians, album's name and the amount of songs if needed\"\n",
        "    album = {'Musician': musician, 'Title': a_title}\n",
        "    if n_songs:\n",
        "      album['Songs'] = n_songs\n",
        "    return album"
      ],
      "metadata": {
        "id": "8mFkJ41lWsGX"
      },
      "execution_count": 40,
      "outputs": []
    },
    {
      "cell_type": "code",
      "source": [
        "make_album('Calvin Harris', 'Motion')"
      ],
      "metadata": {
        "id": "yMIuZpUi4eKp",
        "outputId": "759cbae4-eb0b-4491-81cc-7089b5d3d380",
        "colab": {
          "base_uri": "https://localhost:8080/"
        }
      },
      "execution_count": 41,
      "outputs": [
        {
          "output_type": "execute_result",
          "data": {
            "text/plain": [
              "{'Musician': 'Calvin Harris', 'Title': 'Motion'}"
            ]
          },
          "metadata": {},
          "execution_count": 41
        }
      ]
    },
    {
      "cell_type": "code",
      "source": [
        "make_album('Sia', 'Cheap Thrills')"
      ],
      "metadata": {
        "id": "CO4oJE4A677i",
        "outputId": "ec799125-71d7-4c95-dde3-a8847cd587f3",
        "colab": {
          "base_uri": "https://localhost:8080/"
        }
      },
      "execution_count": 42,
      "outputs": [
        {
          "output_type": "execute_result",
          "data": {
            "text/plain": [
              "{'Musician': 'Sia', 'Title': 'Cheap Thrills'}"
            ]
          },
          "metadata": {},
          "execution_count": 42
        }
      ]
    },
    {
      "cell_type": "code",
      "source": [
        "make_album('The Weeknd', 'Starboy', 18)"
      ],
      "metadata": {
        "id": "gn9CFT_M7IMj",
        "outputId": "ba1627ba-8a3b-4c4a-8d27-9bfce13317c5",
        "colab": {
          "base_uri": "https://localhost:8080/"
        }
      },
      "execution_count": 43,
      "outputs": [
        {
          "output_type": "execute_result",
          "data": {
            "text/plain": [
              "{'Musician': 'The Weeknd', 'Songs': 18, 'Title': 'Starboy'}"
            ]
          },
          "metadata": {},
          "execution_count": 43
        }
      ]
    },
    {
      "cell_type": "markdown",
      "source": [
        "**Ejercicio 3**\n",
        "\n",
        "Comience con su programa del ejercicio anterior. Escriba un ciclo while que permita a los usuarios ingresar el artista y el título de un álbum. Una vez que tenga esa información, llame a make_album() con la entrada del usuario e imprima el diccionario que se crea. Asegúrese de incluir un valor de salida en el ciclo while."
      ],
      "metadata": {
        "id": "ZGmkDjm0Wobz"
      }
    },
    {
      "cell_type": "code",
      "source": [
        "def make_album(musician, a_title, n_songs = None):\n",
        "    \"This function creates a dictionary of musicians, album's name and the amount of songs if needed\"\n",
        "    album = {'Musician': musician, 'Title': a_title}\n",
        "    if n_songs:\n",
        "      album['Songs'] = n_songs\n",
        "    return album\n",
        "\n",
        "while True:\n",
        "    print('\\nEnter \"quit\" at any time to quit')\n",
        "    \n",
        "    musician = input(\"Musician = \")\n",
        "    if musician == \"quit\":\n",
        "      break\n",
        "\n",
        "    a_title = input(\"Title = \")\n",
        "    if a_title == \"quit\":\n",
        "      break\n",
        "\n",
        "    my_album = make_album(musician.title(), a_title.title())\n",
        "    print(my_album)"
      ],
      "metadata": {
        "id": "x5_EgboPGL5u",
        "outputId": "21cbe580-6c8b-4620-9197-aec86a2c316d",
        "colab": {
          "base_uri": "https://localhost:8080/"
        }
      },
      "execution_count": 80,
      "outputs": [
        {
          "name": "stdout",
          "output_type": "stream",
          "text": [
            "\n",
            "Enter \"quit\" at any time to quit\n",
            "Musician = Calvin harris\n",
            "Title = motion\n",
            "{'Musician': 'Calvin Harris', 'Title': 'Motion'}\n",
            "\n",
            "Enter \"quit\" at any time to quit\n",
            "Musician = sia\n",
            "Title = cheap thrills\n",
            "{'Musician': 'Sia', 'Title': 'Cheap Thrills'}\n",
            "\n",
            "Enter \"quit\" at any time to quit\n",
            "Musician = the weeknd\n",
            "Title = Starboy\n",
            "{'Musician': 'The Weeknd', 'Title': 'Starboy'}\n",
            "\n",
            "Enter \"quit\" at any time to quit\n",
            "Musician = quit\n"
          ]
        }
      ]
    },
    {
      "cell_type": "markdown",
      "source": [
        "# **Usando Listas**"
      ],
      "metadata": {
        "id": "D6hIjgtuJ24P"
      }
    },
    {
      "cell_type": "markdown",
      "source": [
        "**Ejercicio 1**\n",
        "\n",
        "Haz una lista que contenga una serie de mensajes de texto cortos. Pase la lista a una función llamada show_messages(), que imprime cada mensaje de texto."
      ],
      "metadata": {
        "id": "69CHeXAqJ8Yl"
      }
    },
    {
      "cell_type": "code",
      "source": [
        "messages = ['Welcome!', 'What are you buying?', 'What are you selling?']"
      ],
      "metadata": {
        "id": "kJkG4_fLJ2AP"
      },
      "execution_count": 93,
      "outputs": []
    },
    {
      "cell_type": "code",
      "source": [
        "def show_messages(messages):\n",
        "  \"This function displays items in a list\"\n",
        "  for message in messages:\n",
        "    print(message)"
      ],
      "metadata": {
        "id": "zwGYKhp5KUV7"
      },
      "execution_count": 99,
      "outputs": []
    },
    {
      "cell_type": "code",
      "source": [
        "show_messages(messages)"
      ],
      "metadata": {
        "id": "64RM4789Kl4Y",
        "outputId": "3e32261b-5760-4e12-b62d-5a1914ea29f4",
        "colab": {
          "base_uri": "https://localhost:8080/"
        }
      },
      "execution_count": 100,
      "outputs": [
        {
          "output_type": "stream",
          "name": "stdout",
          "text": [
            "Welcome!\n",
            "What are you buying?\n",
            "What are you selling?\n"
          ]
        }
      ]
    },
    {
      "cell_type": "markdown",
      "source": [
        "**Ejercicio 2**\n",
        "\n",
        "Comience con una copia de su programa del Ejercicio anterior. Escriba una función llamada send_messages() que imprima cada mensaje de texto y mueva cada mensaje a una nueva lista llamada sent_messages a medida que se imprime. Después de llamar a la función, imprima ambas listas para asegurarse de que los mensajes se movieron correctamente."
      ],
      "metadata": {
        "id": "_Zmd5dvxJ9uV"
      }
    },
    {
      "cell_type": "code",
      "source": [
        "sent_messages = []"
      ],
      "metadata": {
        "id": "2Pz3UTlnMTGr"
      },
      "execution_count": 98,
      "outputs": []
    },
    {
      "cell_type": "code",
      "source": [
        "def send_messages(messages, sent_messages):\n",
        "  while messages:\n",
        "    current_message = messages.pop()\n",
        "    print(f\"Sending message: {current_message}\")\n",
        "    sent_messages.append(current_message)\n",
        "\n",
        "def show_sent_messages(sent_messages):\n",
        "  print(\"\\nThe following messages have been sent: \")\n",
        "  for message in sent_messages:\n",
        "    print(message)"
      ],
      "metadata": {
        "id": "JqK59P7SJ0Y4"
      },
      "execution_count": 101,
      "outputs": []
    },
    {
      "cell_type": "code",
      "source": [
        "send_messages(messages, sent_messages)\n",
        "show_sent_messages(sent_messages)\n",
        "\n",
        "print(f\"\\n{messages}\")\n",
        "print(sent_messages)"
      ],
      "metadata": {
        "id": "4amMzK3_M79F",
        "outputId": "bd122a8e-ce1c-42e3-d08b-7c62f38261b2",
        "colab": {
          "base_uri": "https://localhost:8080/"
        }
      },
      "execution_count": 106,
      "outputs": [
        {
          "output_type": "stream",
          "name": "stdout",
          "text": [
            "\n",
            "The following messages have been sent: \n",
            "What are you selling?\n",
            "What are you buying?\n",
            "Welcome!\n",
            "\n",
            "[]\n",
            "['What are you selling?', 'What are you buying?', 'Welcome!']\n"
          ]
        }
      ]
    },
    {
      "cell_type": "markdown",
      "source": [
        "**Ejercicio 3**\n",
        "\n",
        "Comience con su trabajo del Ejercicio anterior. Llame a la función send_messages() con una copia de la lista de mensajes. Después de llamar a la función, imprima ambas listas para mostrar que la lista original ha conservado sus mensajes."
      ],
      "metadata": {
        "id": "UVEACE6sKAaB"
      }
    },
    {
      "cell_type": "code",
      "source": [
        "messages_backup = ['Welcome!', 'What are you buying?', 'What are you selling?']"
      ],
      "metadata": {
        "id": "8Yw-CoxKKABs"
      },
      "execution_count": 115,
      "outputs": []
    },
    {
      "cell_type": "code",
      "source": [
        "send_messages(messages_backup, messages)\n",
        "\n",
        "print(messages)"
      ],
      "metadata": {
        "id": "HKsCz1xvN71u",
        "outputId": "16f78823-c2e7-42b3-c636-d04cacb6e682",
        "colab": {
          "base_uri": "https://localhost:8080/"
        }
      },
      "execution_count": 116,
      "outputs": [
        {
          "output_type": "stream",
          "name": "stdout",
          "text": [
            "Sending message: What are you selling?\n",
            "Sending message: What are you buying?\n",
            "Sending message: Welcome!\n",
            "['What are you selling?', 'What are you buying?', 'Welcome!']\n"
          ]
        }
      ]
    },
    {
      "cell_type": "markdown",
      "source": [
        "# **Pasar un número arbitrario de argumentos**"
      ],
      "metadata": {
        "id": "hbmd48Odc_9c"
      }
    },
    {
      "cell_type": "markdown",
      "source": [
        "**Ejercicio 1**\n",
        "\n",
        "Escribe una función que acepte una lista de artículos que una persona quiere en un sándwich. La función debe tener un parámetro que recopile tantos elementos como proporcione la llamada a la función, y debe imprimir un resumen del sándwich que se está ordenando. Llame a la función tres veces, usando un número diferente de argumentos cada vez."
      ],
      "metadata": {
        "id": "awXMxtIwdBk5"
      }
    },
    {
      "cell_type": "code",
      "source": [
        "def sandwich(*ingredients):\n",
        "  \"This function shows the ingredients in a sandwich\"\n",
        "  print(\"El sandwich contiene los siguientes ingredientes: \")\n",
        "  for ingredient in ingredients:\n",
        "    print(f'- {ingredient}')"
      ],
      "metadata": {
        "id": "LizVQBOsdZu1"
      },
      "execution_count": 118,
      "outputs": []
    },
    {
      "cell_type": "code",
      "source": [
        "sandwich('jamon', 'queso')"
      ],
      "metadata": {
        "id": "G7fNCFVmeCDl",
        "outputId": "6a105c4d-843a-4a80-b829-d537dc0654db",
        "colab": {
          "base_uri": "https://localhost:8080/"
        }
      },
      "execution_count": 119,
      "outputs": [
        {
          "output_type": "stream",
          "name": "stdout",
          "text": [
            "El sandwich contiene los siguientes ingredientes: \n",
            "- jamon\n",
            "- queso\n"
          ]
        }
      ]
    },
    {
      "cell_type": "code",
      "source": [
        "sandwich('pollo', 'lechuga', 'tomate')"
      ],
      "metadata": {
        "id": "DPmVxmV0eDEb",
        "outputId": "d8a1bf4a-e619-4a0f-e7c6-c0fc482aaf14",
        "colab": {
          "base_uri": "https://localhost:8080/"
        }
      },
      "execution_count": 120,
      "outputs": [
        {
          "output_type": "stream",
          "name": "stdout",
          "text": [
            "El sandwich contiene los siguientes ingredientes: \n",
            "- pollo\n",
            "- lechuga\n",
            "- tomate\n"
          ]
        }
      ]
    },
    {
      "cell_type": "code",
      "source": [
        "sandwich('tocino')"
      ],
      "metadata": {
        "id": "JlCYvPzqeCz4",
        "outputId": "1ad39548-7275-4f7c-8e71-f02b3e52c11f",
        "colab": {
          "base_uri": "https://localhost:8080/"
        }
      },
      "execution_count": 121,
      "outputs": [
        {
          "output_type": "stream",
          "name": "stdout",
          "text": [
            "El sandwich contiene los siguientes ingredientes: \n",
            "- tocino\n"
          ]
        }
      ]
    },
    {
      "cell_type": "markdown",
      "source": [
        "**Ejercicio 2**\n",
        "\n",
        "Comience con una copia de user_profile de Uso de argumentos de palabras clave arbitrarias. Cree un perfil de usted mismo llamando a build_profile(), usando su nombre y apellido y otros tres pares clave-valor que lo describan."
      ],
      "metadata": {
        "id": "zOs-59DSdE3F"
      }
    },
    {
      "cell_type": "code",
      "source": [
        "def build_profile(first, last, **user_info):\n",
        "    \"\"\"Build a dictionary containing everything we know about a user.\"\"\"\n",
        "    user_info['first_name'] = first\n",
        "    user_info['last_name'] = last\n",
        "    return user_info"
      ],
      "metadata": {
        "id": "hLZJW-W-fCaX"
      },
      "execution_count": 122,
      "outputs": []
    },
    {
      "cell_type": "code",
      "source": [
        "user_profile = build_profile('Luis', 'Espinoza',\n",
        "                             Career='Ingeniería Civil',\n",
        "                             Age='24',\n",
        "                             Favorite_food = 'Seco')\n",
        "print(user_profile)"
      ],
      "metadata": {
        "id": "-Yu38VhHf5A1",
        "outputId": "1ed0c11f-2786-4f8c-fa02-3597aa17ef96",
        "colab": {
          "base_uri": "https://localhost:8080/"
        }
      },
      "execution_count": 123,
      "outputs": [
        {
          "output_type": "stream",
          "name": "stdout",
          "text": [
            "{'Career': 'Ingeniería Civil', 'Age': '24', 'Favorite_food': 'Seco', 'first_name': 'Luis', 'last_name': 'Espinoza'}\n"
          ]
        }
      ]
    },
    {
      "cell_type": "markdown",
      "source": [
        "**Ejercicio 3**\n",
        "\n",
        "Escribe una función que almacene información sobre un automóvil en un diccionario. La función siempre debe recibir un fabricante y un nombre de modelo. Entonces debería aceptar un número arbitrario de argumentos de palabras clave. Llame a la función con la información requerida y otros dos pares de nombre y valor, como un color o una función opcional. Su función debería funcionar para una llamada como esta:\n",
        "\n",
        "coche = make_car('subaru', 'outback', color='blue', tow_package=True)\n",
        "\n",
        "Imprima el diccionario que se devuelve para asegurarse de que toda la información se almacenó correctamente."
      ],
      "metadata": {
        "id": "j43ME_B5dHWo"
      }
    },
    {
      "cell_type": "code",
      "source": [
        "def make_car(brand, name, **car_info):\n",
        "    \"Shows especifications of a car\"\n",
        "    car_info['Brand'] = brand\n",
        "    car_info['Name'] = name\n",
        "    return car_info"
      ],
      "metadata": {
        "id": "l5_8QfCygWJ2"
      },
      "execution_count": 124,
      "outputs": []
    },
    {
      "cell_type": "code",
      "source": [
        "coche = make_car('Subaru', 'Outback', color = 'blue', tow_package = True)\n",
        "print(coche)"
      ],
      "metadata": {
        "id": "NBUD39pshNVC",
        "outputId": "094694ca-1e27-478c-c51b-253a0d53549d",
        "colab": {
          "base_uri": "https://localhost:8080/"
        }
      },
      "execution_count": 126,
      "outputs": [
        {
          "output_type": "stream",
          "name": "stdout",
          "text": [
            "{'color': 'blue', 'tow_package': True, 'Brand': 'Subaru', 'Name': 'Outback'}\n"
          ]
        }
      ]
    },
    {
      "cell_type": "markdown",
      "source": [
        "# **Introducción a Clases**"
      ],
      "metadata": {
        "id": "It0tkTRHiu4r"
      }
    },
    {
      "cell_type": "markdown",
      "source": [
        "**Ejercicio 1**\n",
        "\n",
        "Haz una clase llamada Restaurante. El método init() para Restaurante debe almacenar dos atributos: un nombre_restaurante y un tipo_cocina. Cree un método llamado describe_restaurant() que imprima estos dos datos y un método llamado open_restaurant() que imprima un mensaje que indique que el restaurante está abierto.\n",
        "\n",
        "Cree una instancia llamada restaurante de su clase. Imprima los dos atributos individualmente y luego llame a ambos métodos."
      ],
      "metadata": {
        "id": "9vvQIqDiiwlE"
      }
    },
    {
      "cell_type": "code",
      "source": [
        "class Restaurante:\n",
        "  def __init__(self, nombre_restaurante, tipo_cocina):\n",
        "    self.nombre_restaurante = nombre_restaurante\n",
        "    self.tipo_cocina = tipo_cocina\n",
        "\n",
        "  def describe_restaurant(self):\n",
        "    print(f'El restaurante {self.nombre_restaurante} sirve comida {self.tipo_cocina}')\n",
        "\n",
        "  def open_restaurant(self):\n",
        "    print('El restaurante está abierto')  "
      ],
      "metadata": {
        "id": "KOO7UJMUiwPu"
      },
      "execution_count": 127,
      "outputs": []
    },
    {
      "cell_type": "code",
      "source": [
        "restaurante1 = Restaurante('Bembos', 'Rápida')"
      ],
      "metadata": {
        "id": "sEUp6V7cm056"
      },
      "execution_count": 128,
      "outputs": []
    },
    {
      "cell_type": "code",
      "source": [
        "restaurante1.nombre_restaurante"
      ],
      "metadata": {
        "id": "anEkQmQCnBVA",
        "outputId": "974cd80a-d5d9-4387-de6d-e785f12245db",
        "colab": {
          "base_uri": "https://localhost:8080/",
          "height": 36
        }
      },
      "execution_count": 129,
      "outputs": [
        {
          "output_type": "execute_result",
          "data": {
            "text/plain": [
              "'Bembos'"
            ],
            "application/vnd.google.colaboratory.intrinsic+json": {
              "type": "string"
            }
          },
          "metadata": {},
          "execution_count": 129
        }
      ]
    },
    {
      "cell_type": "code",
      "source": [
        "restaurante1.tipo_cocina"
      ],
      "metadata": {
        "id": "-qWXbidwnGs0",
        "outputId": "4e8f2cb4-9483-411f-85a4-c255f4fe5bb8",
        "colab": {
          "base_uri": "https://localhost:8080/",
          "height": 36
        }
      },
      "execution_count": 130,
      "outputs": [
        {
          "output_type": "execute_result",
          "data": {
            "text/plain": [
              "'Rápida'"
            ],
            "application/vnd.google.colaboratory.intrinsic+json": {
              "type": "string"
            }
          },
          "metadata": {},
          "execution_count": 130
        }
      ]
    },
    {
      "cell_type": "code",
      "source": [
        "restaurante1.describe_restaurant()"
      ],
      "metadata": {
        "id": "aQsiq9VnnJ3s",
        "outputId": "4dd7b99e-63b2-4d11-e5ae-a14226dccd03",
        "colab": {
          "base_uri": "https://localhost:8080/"
        }
      },
      "execution_count": 132,
      "outputs": [
        {
          "output_type": "stream",
          "name": "stdout",
          "text": [
            "El restaurante Bembos sirve comida Rápida\n"
          ]
        }
      ]
    },
    {
      "cell_type": "code",
      "source": [
        "restaurante1.open_restaurant()"
      ],
      "metadata": {
        "id": "Gc0x283hnOgR",
        "outputId": "58b9f544-960d-41f8-bf3f-4fc203be7c22",
        "colab": {
          "base_uri": "https://localhost:8080/"
        }
      },
      "execution_count": 133,
      "outputs": [
        {
          "output_type": "stream",
          "name": "stdout",
          "text": [
            "El restaurante está abierto\n"
          ]
        }
      ]
    },
    {
      "cell_type": "markdown",
      "source": [
        "**Ejercicio 2**\n",
        "\n",
        "Comience con su clase del Ejercicio anterior. Cree tres instancias diferentes de la clase y llame a describe_restaurant() para cada instancia."
      ],
      "metadata": {
        "id": "c5ERpfe_lhhJ"
      }
    },
    {
      "cell_type": "code",
      "source": [
        "restaurante2 = Restaurante('Jirón Marino', 'Marina')\n",
        "restaurante3 = Restaurante('Popeyes', 'Rápida')\n",
        "restaurante4 = Restaurante('Pizza Hut', 'Italiana')"
      ],
      "metadata": {
        "id": "30sMK_xAnbPf"
      },
      "execution_count": 134,
      "outputs": []
    },
    {
      "cell_type": "code",
      "source": [
        "restaurante2.describe_restaurant()"
      ],
      "metadata": {
        "id": "TfJM9RR1naj0",
        "outputId": "95f55b49-95ee-4609-e5b2-12ef61d607b7",
        "colab": {
          "base_uri": "https://localhost:8080/"
        }
      },
      "execution_count": 135,
      "outputs": [
        {
          "output_type": "stream",
          "name": "stdout",
          "text": [
            "El restaurante Jirón Marino sirve comida Marina\n"
          ]
        }
      ]
    },
    {
      "cell_type": "code",
      "source": [
        "restaurante3.describe_restaurant()"
      ],
      "metadata": {
        "id": "3vRRXuavnaYC",
        "outputId": "943ff904-4e9e-4ec8-84fa-5e68593a91d8",
        "colab": {
          "base_uri": "https://localhost:8080/"
        }
      },
      "execution_count": 136,
      "outputs": [
        {
          "output_type": "stream",
          "name": "stdout",
          "text": [
            "El restaurante Popeyes sirve comida Rápida\n"
          ]
        }
      ]
    },
    {
      "cell_type": "code",
      "source": [
        "restaurante4.describe_restaurant()"
      ],
      "metadata": {
        "id": "iF1UfGbgnXON",
        "outputId": "18cbbc8c-73da-4b56-e820-15f770523e95",
        "colab": {
          "base_uri": "https://localhost:8080/"
        }
      },
      "execution_count": 137,
      "outputs": [
        {
          "output_type": "stream",
          "name": "stdout",
          "text": [
            "El restaurante Pizza Hut sirve comida Italiana\n"
          ]
        }
      ]
    },
    {
      "cell_type": "markdown",
      "source": [
        "**Ejercicio 3**\n",
        "\n",
        "Haz una clase llamada Usuario. Cree dos atributos llamados first_name y last_name, y luego cree varios otros atributos que normalmente se almacenan en un perfil de usuario. Cree un método llamado describe_user() que imprima un resumen de la información del usuario. Cree otro método llamado greeting_user() que imprima un saludo personalizado para el usuario.\n",
        "\n",
        "Cree varias instancias que representen a diferentes usuarios y llame a ambos métodos para cada usuario."
      ],
      "metadata": {
        "id": "SnSvqHbTlkcq"
      }
    },
    {
      "cell_type": "code",
      "source": [
        "class Usuario:\n",
        "  def __init__(self, first_name, last_name, age, gender, weight, size):\n",
        "    self.first_name = first_name\n",
        "    self.last_name = last_name\n",
        "    self.age = age\n",
        "    self.gender = gender\n",
        "    self.weight = weight\n",
        "    self.size = size\n",
        "\n",
        "  def describe_user(self):\n",
        "    print(f'{self.first_name} {self.last_name} tiene {self.age} años, es de género {self.gender}, pesa {self.weight} kilos y mide {self.size} metros')\n",
        "  \n",
        "  def greeting_user(self):\n",
        "    print(f'Buen día {self.first_name} {self.last_name}')"
      ],
      "metadata": {
        "id": "Ofs7OAZuoKDX"
      },
      "execution_count": 138,
      "outputs": []
    },
    {
      "cell_type": "code",
      "source": [
        "user1 = Usuario('Luis', 'Espinoza', 24, 'Masculino', 80, 1.80)\n",
        "user2 = Usuario('Daniela', 'Cosio', 23, 'Femenino', 60, 1.50)"
      ],
      "metadata": {
        "id": "nmdNa0TmpbSH"
      },
      "execution_count": 139,
      "outputs": []
    },
    {
      "cell_type": "code",
      "source": [
        "user1.greeting_user()\n",
        "user1.describe_user()"
      ],
      "metadata": {
        "id": "yr8K7wnGpbIz",
        "outputId": "7cb08102-dc49-4934-c2e1-bb104036b6c5",
        "colab": {
          "base_uri": "https://localhost:8080/"
        }
      },
      "execution_count": 140,
      "outputs": [
        {
          "output_type": "stream",
          "name": "stdout",
          "text": [
            "Buen día Luis Espinoza\n",
            "Luis Espinoza tiene 24 años, es de género Masculino, pesa 80 kilos y mide 1.8 metros\n"
          ]
        }
      ]
    },
    {
      "cell_type": "code",
      "source": [
        "user2.greeting_user()\n",
        "user2.describe_user()"
      ],
      "metadata": {
        "id": "PZotM34rp9QD",
        "outputId": "2197059d-6cc5-4bb5-83e3-c91e7219c74d",
        "colab": {
          "base_uri": "https://localhost:8080/"
        }
      },
      "execution_count": 141,
      "outputs": [
        {
          "output_type": "stream",
          "name": "stdout",
          "text": [
            "Buen día Daniela Cosio\n",
            "Daniela Cosio tiene 23 años, es de género Femenino, pesa 60 kilos y mide 1.5 metros\n"
          ]
        }
      ]
    }
  ]
}