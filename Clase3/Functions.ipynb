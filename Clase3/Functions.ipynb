{
  "nbformat": 4,
  "nbformat_minor": 0,
  "metadata": {
    "colab": {
      "name": "Untitled2.ipynb",
      "provenance": [],
      "collapsed_sections": [],
      "include_colab_link": true
    },
    "kernelspec": {
      "name": "python3",
      "display_name": "Python 3"
    },
    "language_info": {
      "name": "python"
    }
  },
  "cells": [
    {
      "cell_type": "markdown",
      "metadata": {
        "id": "view-in-github",
        "colab_type": "text"
      },
      "source": [
        "<a href=\"https://colab.research.google.com/github/Lesp98/Luis_Miguel_Espinoza_Menez/blob/main/Clase3/Functions.ipynb\" target=\"_parent\"><img src=\"https://colab.research.google.com/assets/colab-badge.svg\" alt=\"Open In Colab\"/></a>"
      ]
    },
    {
      "cell_type": "markdown",
      "source": [
        "# **Usando información dentro de funciones**"
      ],
      "metadata": {
        "id": "lSJ5sWEK3u3k"
      }
    },
    {
      "cell_type": "markdown",
      "source": [
        "**Ejercicio 1**\n",
        "\n",
        "Escriba una función llamada display_message() que imprima una oración que diga a todos lo que está aprendiendo en este capítulo. Llame a la función y asegúrese de que el mensaje se muestre correctamente."
      ],
      "metadata": {
        "id": "gm1Mwpft331l"
      }
    },
    {
      "cell_type": "code",
      "execution_count": null,
      "metadata": {
        "id": "VpeVIyRv3N7e"
      },
      "outputs": [],
      "source": [
        "def display_message():\n",
        "  \"This function displays information about what's being learnt at the moment\"\n",
        "  print(\"Estamos aprendiendo funciones en Python\")"
      ]
    },
    {
      "cell_type": "code",
      "source": [
        "display_message()"
      ],
      "metadata": {
        "colab": {
          "base_uri": "https://localhost:8080/"
        },
        "id": "Nj5HwoZ54Zzm",
        "outputId": "b6f75ea1-c8b7-4684-d236-61a47948c888"
      },
      "execution_count": null,
      "outputs": [
        {
          "output_type": "stream",
          "name": "stdout",
          "text": [
            "Estamos aprendiendo funciones en Python\n"
          ]
        }
      ]
    },
    {
      "cell_type": "markdown",
      "source": [
        "**Ejercicio 2**\n",
        "\n",
        "Escriba una función llamada favorite_book() que acepte un parámetro, título. La función debe imprimir un mensaje, como Uno de mis libros favoritos es Alicia en el país de las maravillas. Llame a la función, asegurándose de incluir el título de un libro como argumento en la llamada a la función."
      ],
      "metadata": {
        "id": "Jryu2zu236Ki"
      }
    },
    {
      "cell_type": "code",
      "source": [
        "def favorite_book(bookname):\n",
        "  \"This function prints your favorite book\"\n",
        "  print(f'Uno de mis libros favoritos es {bookname}')"
      ],
      "metadata": {
        "id": "HwR2REWQ4z-A"
      },
      "execution_count": null,
      "outputs": []
    },
    {
      "cell_type": "code",
      "source": [
        "favorite_book(\"Alicia en el país de las maravillas\")"
      ],
      "metadata": {
        "colab": {
          "base_uri": "https://localhost:8080/"
        },
        "id": "Lit6I9Ii6BcS",
        "outputId": "f9e3f726-c465-434d-d73e-d56f370212c1"
      },
      "execution_count": null,
      "outputs": [
        {
          "output_type": "stream",
          "name": "stdout",
          "text": [
            "Uno de mis libros favoritos es Alicia en el país de las maravillas\n"
          ]
        }
      ]
    },
    {
      "cell_type": "markdown",
      "source": [
        "**Ejercicio 1**\n",
        "\n",
        "Escribe una función llamada make_shirt() que acepte un tamaño y el texto de un mensaje que debería estar impreso en la camiseta. La función debe imprimir una oración que resuma el tamaño de la camisa y el mensaje impreso en ella.\n",
        "\n",
        "Llame a la función una vez usando argumentos posicionales para hacer una camisa. Llame a la función por segunda vez usando argumentos de palabras clave."
      ],
      "metadata": {
        "id": "DBHoSr1II8mL"
      }
    },
    {
      "cell_type": "code",
      "source": [
        "def make_shirt(size, message):\n",
        "  \"This function displays information about size and message printed in a shirt\"\n",
        "  print(f\"El tamaño de la camisa es {size} y el mensaje es {message}\")"
      ],
      "metadata": {
        "id": "VZ19KKWWJOIA"
      },
      "execution_count": 1,
      "outputs": []
    },
    {
      "cell_type": "code",
      "source": [
        "make_shirt(\"M\", \"No Pain No Gain\")"
      ],
      "metadata": {
        "id": "AZ5C97C-J5Tz",
        "outputId": "40128817-fcd0-462c-91c6-14376e492f12",
        "colab": {
          "base_uri": "https://localhost:8080/"
        }
      },
      "execution_count": 2,
      "outputs": [
        {
          "output_type": "stream",
          "name": "stdout",
          "text": [
            "El tamaño de la camisa es M y el mensaje es No Pain No Gain\n"
          ]
        }
      ]
    },
    {
      "cell_type": "code",
      "source": [
        "make_shirt(size = \"S\", message = \"Free hugs\")"
      ],
      "metadata": {
        "id": "LO0i54e5KHsM",
        "outputId": "c973b5b3-8359-4dbd-e34b-26646b1200f3",
        "colab": {
          "base_uri": "https://localhost:8080/"
        }
      },
      "execution_count": 3,
      "outputs": [
        {
          "output_type": "stream",
          "name": "stdout",
          "text": [
            "El tamaño de la camisa es S y el mensaje es Free hugs\n"
          ]
        }
      ]
    },
    {
      "cell_type": "markdown",
      "source": [
        "**Ejercicio 2**\n",
        "\n",
        "Modifique la función make_shirt() para que las camisetas sean grandes por defecto con un mensaje que diga Me encanta Python. Haz una camiseta grande y una camiseta mediana con el mensaje predeterminado y una camiseta de cualquier tamaño con un mensaje diferente."
      ],
      "metadata": {
        "id": "ig6y061AJHix"
      }
    },
    {
      "cell_type": "code",
      "source": [
        "def make_shirt(size = \"G\", message = \"Me encanta Python\"):\n",
        "  print(f\"El tamaño de la camisa es {size} y el mensaje es {message}\")"
      ],
      "metadata": {
        "id": "RNh1KhAxKaB0"
      },
      "execution_count": 6,
      "outputs": []
    },
    {
      "cell_type": "code",
      "source": [
        "make_shirt()"
      ],
      "metadata": {
        "id": "9aoPMwqsKyJw",
        "outputId": "61e6b293-6c08-4706-a3c2-8ea165460b9a",
        "colab": {
          "base_uri": "https://localhost:8080/"
        }
      },
      "execution_count": 7,
      "outputs": [
        {
          "output_type": "stream",
          "name": "stdout",
          "text": [
            "El tamaño de la camisa es G y el mensaje es Me encanta Python\n"
          ]
        }
      ]
    },
    {
      "cell_type": "code",
      "source": [
        "make_shirt(size = \"M\")"
      ],
      "metadata": {
        "id": "CVTbuzHELONz",
        "outputId": "4e054e13-77e7-4459-a0b5-e8dd0af7facc",
        "colab": {
          "base_uri": "https://localhost:8080/"
        }
      },
      "execution_count": 8,
      "outputs": [
        {
          "output_type": "stream",
          "name": "stdout",
          "text": [
            "El tamaño de la camisa es M y el mensaje es Me encanta Python\n"
          ]
        }
      ]
    },
    {
      "cell_type": "code",
      "source": [
        "make_shirt(size = \"S\", message = \"Ay caramba!\")"
      ],
      "metadata": {
        "id": "QnjfPSTHLRcr",
        "outputId": "40283122-46a3-4508-8d65-4c7dde811cc1",
        "colab": {
          "base_uri": "https://localhost:8080/"
        }
      },
      "execution_count": 9,
      "outputs": [
        {
          "output_type": "stream",
          "name": "stdout",
          "text": [
            "El tamaño de la camisa es S y el mensaje es Ay caramba!\n"
          ]
        }
      ]
    },
    {
      "cell_type": "markdown",
      "source": [
        "**Ejercicio 3**\n",
        "\n",
        "Escribe una función llamada describe_city() que acepte el nombre de una ciudad y su país. La función debe imprimir una oración simple, como Reykjavik está en Islandia. Asigne al parámetro para el país un valor predeterminado. Llame a su función para tres ciudades diferentes, al menos una de las cuales no se encuentra en el país predeterminado."
      ],
      "metadata": {
        "id": "bNnYBYUwJKhS"
      }
    },
    {
      "cell_type": "code",
      "source": [
        "def describe_city(city, country = \"Perú\"):\n",
        "  print(f\"{city} está en {country}\")"
      ],
      "metadata": {
        "id": "bARKPB_qLaaw"
      },
      "execution_count": 10,
      "outputs": []
    },
    {
      "cell_type": "code",
      "source": [
        "describe_city(\"Lima\")"
      ],
      "metadata": {
        "id": "g0kiKT1vL1_r",
        "outputId": "8b5de26d-d587-4698-abb2-4ef93e7c4e6a",
        "colab": {
          "base_uri": "https://localhost:8080/"
        }
      },
      "execution_count": 12,
      "outputs": [
        {
          "output_type": "stream",
          "name": "stdout",
          "text": [
            "Lima está en Perú\n"
          ]
        }
      ]
    },
    {
      "cell_type": "code",
      "source": [
        "describe_city(city = \"Cusco\")"
      ],
      "metadata": {
        "id": "OlyqRY0fL6ml",
        "outputId": "f6be8dee-626e-43e1-ac7a-780d761f125d",
        "colab": {
          "base_uri": "https://localhost:8080/"
        }
      },
      "execution_count": 14,
      "outputs": [
        {
          "output_type": "stream",
          "name": "stdout",
          "text": [
            "Cusco está en Perú\n"
          ]
        }
      ]
    },
    {
      "cell_type": "code",
      "source": [
        "describe_city(city = \"Berlín\", country = \"Alemania\")"
      ],
      "metadata": {
        "id": "IlthLC26MC_K",
        "outputId": "4d3a8c36-8488-45f5-b7a5-d47bd93093bf",
        "colab": {
          "base_uri": "https://localhost:8080/"
        }
      },
      "execution_count": 16,
      "outputs": [
        {
          "output_type": "stream",
          "name": "stdout",
          "text": [
            "Berlín está en Alemania\n"
          ]
        }
      ]
    }
  ]
}