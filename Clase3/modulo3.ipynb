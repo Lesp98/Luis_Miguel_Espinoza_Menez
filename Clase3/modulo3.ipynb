{
  "nbformat": 4,
  "nbformat_minor": 0,
  "metadata": {
    "colab": {
      "name": "modulo 3.ipynb",
      "provenance": [],
      "include_colab_link": true
    },
    "kernelspec": {
      "name": "python3",
      "display_name": "Python 3"
    },
    "language_info": {
      "name": "python"
    }
  },
  "cells": [
    {
      "cell_type": "markdown",
      "metadata": {
        "id": "view-in-github",
        "colab_type": "text"
      },
      "source": [
        "<a href=\"https://colab.research.google.com/github/Lesp98/Luis_Miguel_Espinoza_Menez/blob/main/Clase3/modulo3.ipynb\" target=\"_parent\"><img src=\"https://colab.research.google.com/assets/colab-badge.svg\" alt=\"Open In Colab\"/></a>"
      ]
    },
    {
      "cell_type": "markdown",
      "source": [
        "<img src=\"https://www.ctic.uni.edu.pe/wp-content/uploads/2022/04/588px-x-348px-web-1.png\" alt=\"HTML5 Icon\" width=\"900\" height=\"350\" >"
      ],
      "metadata": {
        "id": "kt2I6UBTXfTx"
      }
    },
    {
      "cell_type": "markdown",
      "source": [
        "<h1 align=center><font size = 5>UNIDAD III - FUNCIONES\n",
        "</font></h1>\n",
        "\n",
        "---"
      ],
      "metadata": {
        "id": "OVQ2JpIkXhGH"
      }
    },
    {
      "cell_type": "markdown",
      "source": [
        "## Tabla de Contenidos\n",
        "\n",
        "<div class=\"alert alert-block alert-info\" style=\"margin-top: 20px\">\n",
        "\n",
        "<font size = 3>\n",
        "    \n",
        "1. <a href=\"#item31\">Definiendo funciones</a>\n",
        "2. <a href=\"#item31\">Usando información dentro de funciones</a>  \n",
        "3. <a href=\"#item31\">Valores de retorno</a>  \n",
        "4. <a href=\"#item31\">Usando funciones con loops while</a>  \n",
        "5. <a href=\"#item31\">Usando listas</a>  \n",
        "6. <a href=\"#item31\">Pasar un número arbitrario de argumentos</a>  \n",
        "7. <a href=\"#item31\">Almacenamiento de funciones con módulos</a>  \n",
        "8. <a href=\"#item31\">Clases</a>  \n",
        "\n",
        "</font>\n",
        "</div>\n",
        "\n",
        "---"
      ],
      "metadata": {
        "id": "dR78NGA6Xv_r"
      }
    },
    {
      "cell_type": "markdown",
      "source": [
        "#1. Definiendo funciones"
      ],
      "metadata": {
        "id": "WgFT9B7xYLXC"
      }
    },
    {
      "cell_type": "code",
      "source": [
        "def funcion():\n",
        "  \"\"\"Esta es la documentación de mi función\n",
        "     Esta funcion printea un mensaje de prueba\n",
        "     - Esta función no tiene parámetros\"\"\"\n",
        "  print(\"esta es una prueba\")\n"
      ],
      "metadata": {
        "id": "B_SRqc6sSuwd"
      },
      "execution_count": null,
      "outputs": []
    },
    {
      "cell_type": "code",
      "source": [
        "funcion()"
      ],
      "metadata": {
        "id": "4qMdJxlFTqId",
        "outputId": "bb80cd83-8ae1-4743-9c84-dd2d39f8cb5e",
        "colab": {
          "base_uri": "https://localhost:8080/"
        }
      },
      "execution_count": null,
      "outputs": [
        {
          "output_type": "stream",
          "name": "stdout",
          "text": [
            "esta es una prueba\n"
          ]
        }
      ]
    },
    {
      "cell_type": "code",
      "source": [
        "funcion?"
      ],
      "metadata": {
        "id": "z_3BmhDwT3sB"
      },
      "execution_count": null,
      "outputs": []
    },
    {
      "cell_type": "code",
      "execution_count": null,
      "metadata": {
        "id": "aegdMKDxXefq"
      },
      "outputs": [],
      "source": [
        "def greet_user():\n",
        "    \"\"\"Escribir un saludo simple.\"\"\"\n",
        "    print(\"Hola!!\")\n"
      ]
    },
    {
      "cell_type": "code",
      "source": [
        "greet_user()"
      ],
      "metadata": {
        "id": "TOZdVi5OZTRZ",
        "outputId": "79386139-e712-48e0-b876-f1e0d0f68434",
        "colab": {
          "base_uri": "https://localhost:8080/"
        }
      },
      "execution_count": null,
      "outputs": [
        {
          "output_type": "stream",
          "name": "stdout",
          "text": [
            "Hola!!\n"
          ]
        }
      ]
    },
    {
      "cell_type": "code",
      "source": [
        "greet_user?"
      ],
      "metadata": {
        "id": "Kj7qdHDUUceC"
      },
      "execution_count": null,
      "outputs": []
    },
    {
      "cell_type": "markdown",
      "source": [
        "#2. Usando información dentro de funciones"
      ],
      "metadata": {
        "id": "p7e7CUC_YjWU"
      }
    },
    {
      "cell_type": "code",
      "source": [
        "def greet_user(username):\n",
        "  \"\"\"vamos a generar un saludo al nombre definido\"\"\"\n",
        "  print(f\"Hola, {username}!\")"
      ],
      "metadata": {
        "id": "JQ_Os2hpU4hW"
      },
      "execution_count": null,
      "outputs": []
    },
    {
      "cell_type": "code",
      "source": [
        "def greet_user(username):\n",
        "    \"\"\"Escribir un saludo simple.\"\"\"\n",
        "    print(f\"Hola, {username.title()}!\")\n"
      ],
      "metadata": {
        "id": "7_LUnJKwY7Jm"
      },
      "execution_count": null,
      "outputs": []
    },
    {
      "cell_type": "code",
      "source": [
        "greet_user('John')"
      ],
      "metadata": {
        "id": "jVoZm31qZV9O",
        "outputId": "f1ff4eed-ccd1-45ae-88a8-0440941dcfee",
        "colab": {
          "base_uri": "https://localhost:8080/"
        }
      },
      "execution_count": null,
      "outputs": [
        {
          "output_type": "stream",
          "name": "stdout",
          "text": [
            "Hola, John!\n"
          ]
        }
      ]
    },
    {
      "cell_type": "code",
      "source": [
        "greet_user('Victor')"
      ],
      "metadata": {
        "id": "NzTUG3LpVZ0W",
        "outputId": "42180746-b64d-4391-b017-1e2672f56adc",
        "colab": {
          "base_uri": "https://localhost:8080/"
        }
      },
      "execution_count": null,
      "outputs": [
        {
          "output_type": "stream",
          "name": "stdout",
          "text": [
            "Hola, Victor!\n"
          ]
        }
      ]
    },
    {
      "cell_type": "code",
      "source": [
        "greet_user('Margarita')"
      ],
      "metadata": {
        "id": "Db7gK5PoVcsE",
        "outputId": "c1a45d10-ec07-473a-da9f-b1a31e97ba68",
        "colab": {
          "base_uri": "https://localhost:8080/"
        }
      },
      "execution_count": null,
      "outputs": [
        {
          "output_type": "stream",
          "name": "stdout",
          "text": [
            "Hola, Margarita!\n"
          ]
        }
      ]
    },
    {
      "cell_type": "markdown",
      "source": [
        "---\n",
        "\n",
        "<b> Ejercicio 1</b>\n",
        "\n",
        "Escriba una función llamada **display_message()** que imprima una oración que diga a todos lo que está aprendiendo en este capítulo. Llame a la función y asegúrese de que el mensaje se muestre correctamente.\n"
      ],
      "metadata": {
        "id": "D8I5O9AjZgLY"
      }
    },
    {
      "cell_type": "code",
      "source": [
        "def display_message():\n",
        "  \"\"\"imprimir una oración que diga a todos lo que está aprendiendo en este capítulo\"\"\"\n",
        "  print(\"Estamos aprendiendo de funciones en Python!!!\")\n",
        "  "
      ],
      "metadata": {
        "id": "R0aZ-TvoVoPW"
      },
      "execution_count": null,
      "outputs": []
    },
    {
      "cell_type": "code",
      "source": [
        "display_message()"
      ],
      "metadata": {
        "id": "OFcSWrPsWxBS",
        "outputId": "bfb31dd8-418f-4741-ae3f-45ad48b2ddda",
        "colab": {
          "base_uri": "https://localhost:8080/"
        }
      },
      "execution_count": null,
      "outputs": [
        {
          "output_type": "stream",
          "name": "stdout",
          "text": [
            "Estamos aprendiendo de funciones en Python!!!\n"
          ]
        }
      ]
    },
    {
      "cell_type": "markdown",
      "source": [
        "\n",
        "---\n",
        "\n",
        "<b> Ejercicio 2</b>\n",
        "\n",
        "Escriba una función llamada **favorite_book()** que acepte un parámetro, título. La función debe imprimir un mensaje, como Uno de mis libros favoritos es Alicia en el país de las maravillas. Llame a la función, asegurándose de incluir el título de un libro como argumento en la llamada a la función.\n",
        "\n",
        "---"
      ],
      "metadata": {
        "id": "hk_i1gS_bvyv"
      }
    },
    {
      "cell_type": "code",
      "source": [
        "def favorite_book(bookname):\n",
        "  \"\"\"This code prints my favorite book\"\"\"\n",
        "  print(f'Uno de mis libros favoritos es {bookname}')\n"
      ],
      "metadata": {
        "id": "BRy_yROXVpdr"
      },
      "execution_count": null,
      "outputs": []
    },
    {
      "cell_type": "code",
      "source": [
        "favorite_book('Alicia en el país de las maravillas')"
      ],
      "metadata": {
        "id": "RNnx_YErXVj3",
        "outputId": "1df301a9-e9bd-4095-9c2d-3f3cbd649a78",
        "colab": {
          "base_uri": "https://localhost:8080/"
        }
      },
      "execution_count": null,
      "outputs": [
        {
          "output_type": "stream",
          "name": "stdout",
          "text": [
            "Uno de mis libros favoritos es Alicia en el país de las maravillas\n"
          ]
        }
      ]
    },
    {
      "cell_type": "markdown",
      "source": [
        "### Posición de argumentos"
      ],
      "metadata": {
        "id": "xpi4CpaLewj-"
      }
    },
    {
      "cell_type": "code",
      "source": [
        "def describe_pet(animal_type, pet_name):\n",
        "  \"\"\"This function displays information about a pet.\"\"\"\n",
        "  print(f'\\nYo tengo un/una {animal_type}.')\n",
        "  print(f\"El nombre de mi {animal_type} es {pet_name}.\")\n",
        "  "
      ],
      "metadata": {
        "id": "CAB8xh1jYnIx"
      },
      "execution_count": null,
      "outputs": []
    },
    {
      "cell_type": "code",
      "source": [
        "describe_pet('tortuga', 'Simona')"
      ],
      "metadata": {
        "id": "ZZyizIlXZloM",
        "outputId": "5603d156-8264-4327-db46-19f059cdf78d",
        "colab": {
          "base_uri": "https://localhost:8080/"
        }
      },
      "execution_count": null,
      "outputs": [
        {
          "output_type": "stream",
          "name": "stdout",
          "text": [
            "\n",
            "Yo tengo un/una tortuga.\n",
            "El nombre de mi tortuga es Simona.\n"
          ]
        }
      ]
    },
    {
      "cell_type": "code",
      "source": [
        "def describe_pet(animal_type, pet_name):\n",
        "  \"\"\"Display information about a pet.\"\"\"\n",
        "  print(f\"\\nI have a {animal_type}.\")\n",
        "  print(f\"My {animal_type}'s name is {pet_name.title()}.\")\n",
        "\n"
      ],
      "metadata": {
        "id": "7H5m3SONe45x"
      },
      "execution_count": null,
      "outputs": []
    },
    {
      "cell_type": "code",
      "source": [
        "describe_pet('hamster', 'harry')"
      ],
      "metadata": {
        "id": "5I_pcnwJe5aT",
        "outputId": "598bf617-b6dc-49f5-f50d-f41f5fe1743c",
        "colab": {
          "base_uri": "https://localhost:8080/"
        }
      },
      "execution_count": null,
      "outputs": [
        {
          "output_type": "stream",
          "name": "stdout",
          "text": [
            "\n",
            "Yo tengo un/una hamster.\n",
            "El nombre de mi hamster es harry.\n"
          ]
        }
      ]
    },
    {
      "cell_type": "code",
      "source": [
        "describe_pet('hamster', 'harry')\n",
        "describe_pet('dog', 'willie')"
      ],
      "metadata": {
        "id": "NA36VGAMgJ5-",
        "outputId": "9d229bc3-7e20-4377-c55f-ebcb327cc855",
        "colab": {
          "base_uri": "https://localhost:8080/"
        }
      },
      "execution_count": null,
      "outputs": [
        {
          "output_type": "stream",
          "name": "stdout",
          "text": [
            "\n",
            "Yo tengo un/una hamster.\n",
            "El nombre de mi hamster es harry.\n",
            "\n",
            "Yo tengo un/una dog.\n",
            "El nombre de mi dog es willie.\n"
          ]
        }
      ]
    },
    {
      "cell_type": "markdown",
      "source": [
        "### Importancia de la posición de los argumentos"
      ],
      "metadata": {
        "id": "-uxdnnHkhf-F"
      }
    },
    {
      "cell_type": "code",
      "source": [
        "def describe_pet(animal_type, pet_name):\n",
        "    \"\"\"Display information about a pet.\"\"\"\n",
        "    print(f\"\\nI have a {animal_type}.\")\n",
        "    print(f\"My {animal_type}'s name is {pet_name.title()}.\")\n"
      ],
      "metadata": {
        "id": "o7HR4g4ThqU_"
      },
      "execution_count": null,
      "outputs": []
    },
    {
      "cell_type": "code",
      "source": [
        "describe_pet('harry', 'hamster')"
      ],
      "metadata": {
        "id": "3BhoaFayhre-",
        "outputId": "8421383d-3178-431f-ed06-a6135ae08773",
        "colab": {
          "base_uri": "https://localhost:8080/"
        }
      },
      "execution_count": null,
      "outputs": [
        {
          "output_type": "stream",
          "name": "stdout",
          "text": [
            "\n",
            "I have a harry.\n",
            "My harry's name is Hamster.\n"
          ]
        }
      ]
    },
    {
      "cell_type": "markdown",
      "source": [
        "### Argumentos clave"
      ],
      "metadata": {
        "id": "dIj2FL74jEmQ"
      }
    },
    {
      "cell_type": "code",
      "source": [
        "def describe_pet(animal_type, pet_name):\n",
        "    \"\"\"Display information about a pet.\"\"\"\n",
        "    print(f\"\\nI have a {animal_type}.\")\n",
        "    print(f\"My {animal_type}'s name is {pet_name}.\")\n"
      ],
      "metadata": {
        "id": "CVrsI1ozjELB"
      },
      "execution_count": null,
      "outputs": []
    },
    {
      "cell_type": "code",
      "source": [
        "describe_pet(pet_name = 'Harry', animal_type = 'hamster')\n"
      ],
      "metadata": {
        "id": "Xls6fpdYauO8",
        "outputId": "c02e8932-dd32-4160-f41d-a0a7986b1b0f",
        "colab": {
          "base_uri": "https://localhost:8080/"
        }
      },
      "execution_count": null,
      "outputs": [
        {
          "output_type": "stream",
          "name": "stdout",
          "text": [
            "\n",
            "I have a hamster.\n",
            "My hamster's name is Harry.\n"
          ]
        }
      ]
    },
    {
      "cell_type": "code",
      "source": [
        "describe_pet(animal_type = 'hamster', pet_name = 'Harry')"
      ],
      "metadata": {
        "id": "J2C9Ba48bGOH",
        "outputId": "02fdc6fe-2d68-4785-fe88-09a574c1123f",
        "colab": {
          "base_uri": "https://localhost:8080/"
        }
      },
      "execution_count": null,
      "outputs": [
        {
          "output_type": "stream",
          "name": "stdout",
          "text": [
            "\n",
            "I have a hamster.\n",
            "My hamster's name is Harry.\n"
          ]
        }
      ]
    },
    {
      "cell_type": "code",
      "source": [
        "describe_pet(animal_type='hamster', pet_name='harry')"
      ],
      "metadata": {
        "id": "B3_6pdpWjMm6",
        "outputId": "94ce3ffa-19cb-472a-d09a-e06b0ccb539a",
        "colab": {
          "base_uri": "https://localhost:8080/"
        }
      },
      "execution_count": null,
      "outputs": [
        {
          "output_type": "stream",
          "name": "stdout",
          "text": [
            "\n",
            "I have a hamster.\n",
            "My hamster's name is Harry.\n"
          ]
        }
      ]
    },
    {
      "cell_type": "code",
      "source": [
        "describe_pet(animal_type='hamster', pet_name='harry')\n",
        "describe_pet(pet_name='harry', animal_type='hamster')"
      ],
      "metadata": {
        "id": "gnHxotr3qZ9f",
        "outputId": "dfaad402-65d9-4c7a-eadd-eb34736bc297",
        "colab": {
          "base_uri": "https://localhost:8080/"
        }
      },
      "execution_count": null,
      "outputs": [
        {
          "output_type": "stream",
          "name": "stdout",
          "text": [
            "\n",
            "I have a hamster.\n",
            "My hamster's name is Harry.\n",
            "\n",
            "I have a hamster.\n",
            "My hamster's name is Harry.\n"
          ]
        }
      ]
    },
    {
      "cell_type": "markdown",
      "source": [
        "### Valores por default"
      ],
      "metadata": {
        "id": "b4OI6nMUqdw5"
      }
    },
    {
      "cell_type": "code",
      "source": [
        "def describe_pet(pet_name, animal_type='dog'):\n",
        "    \"\"\"Display information about a pet.\"\"\"\n",
        "    print(f\"\\nI have a {animal_type}.\")\n",
        "    print(f\"My {animal_type}'s name is {pet_name.title()}.\")\n",
        "                 "
      ],
      "metadata": {
        "id": "JZKYMn3Tbk-2"
      },
      "execution_count": null,
      "outputs": []
    },
    {
      "cell_type": "code",
      "source": [
        "def describe_pet(pet_name, animal_type='dog'):\n",
        "    \"\"\"Display information about a pet.\"\"\"\n",
        "    print(f\"\\nI have a {animal_type}.\")\n",
        "    print(f\"My {animal_type}'s name is {pet_name.title()}.\")\n"
      ],
      "metadata": {
        "id": "dmslcStyqhQf"
      },
      "execution_count": null,
      "outputs": []
    },
    {
      "cell_type": "code",
      "source": [
        "describe_pet(pet_name='willie')"
      ],
      "metadata": {
        "id": "fTkw_ZRbqmCn",
        "outputId": "fd90dc16-eb3f-4d0a-d696-70005a0545bf",
        "colab": {
          "base_uri": "https://localhost:8080/"
        }
      },
      "execution_count": null,
      "outputs": [
        {
          "output_type": "stream",
          "name": "stdout",
          "text": [
            "\n",
            "I have a dog.\n",
            "My dog's name is Willie.\n"
          ]
        }
      ]
    },
    {
      "cell_type": "code",
      "source": [
        "describe_pet('willie')"
      ],
      "metadata": {
        "id": "53Px7ITvqyBg"
      },
      "execution_count": null,
      "outputs": []
    },
    {
      "cell_type": "code",
      "source": [
        "describe_pet(pet_name='harry', animal_type='hamster')"
      ],
      "metadata": {
        "id": "Wsvo5SVorE6-",
        "outputId": "7ad7cdb8-a681-4e5f-e669-f5b50673ca1e",
        "colab": {
          "base_uri": "https://localhost:8080/"
        }
      },
      "execution_count": null,
      "outputs": [
        {
          "output_type": "stream",
          "name": "stdout",
          "text": [
            "\n",
            "I have a hamster.\n",
            "My hamster's name is Harry.\n"
          ]
        }
      ]
    },
    {
      "cell_type": "markdown",
      "source": [
        "### Llamadas a funciones equivalentes"
      ],
      "metadata": {
        "id": "Qli40ml8rNEu"
      }
    },
    {
      "cell_type": "code",
      "source": [
        "# Un perro llamado Willie.\n",
        "describe_pet('willie')\n",
        "describe_pet(pet_name='willie')"
      ],
      "metadata": {
        "id": "gRzBSP1JrrIp",
        "outputId": "4604209d-cf07-4f97-ea96-48252d9e3426",
        "colab": {
          "base_uri": "https://localhost:8080/"
        }
      },
      "execution_count": null,
      "outputs": [
        {
          "output_type": "stream",
          "name": "stdout",
          "text": [
            "\n",
            "I have a dog.\n",
            "My dog's name is Willie.\n",
            "\n",
            "I have a dog.\n",
            "My dog's name is Willie.\n"
          ]
        }
      ]
    },
    {
      "cell_type": "code",
      "source": [
        "# un hamster llamado Harry.\n",
        "describe_pet('harry', 'hamster')\n",
        "describe_pet(pet_name='harry', animal_type='hamster')\n",
        "describe_pet(animal_type='hamster', pet_name='harry')\n"
      ],
      "metadata": {
        "id": "sUY0rHqYrQ8n",
        "outputId": "d96696f1-4d77-4fd2-f107-0e2aa2904bc9",
        "colab": {
          "base_uri": "https://localhost:8080/"
        }
      },
      "execution_count": null,
      "outputs": [
        {
          "output_type": "stream",
          "name": "stdout",
          "text": [
            "\n",
            "I have a hamster.\n",
            "My hamster's name is Harry.\n",
            "\n",
            "I have a hamster.\n",
            "My hamster's name is Harry.\n",
            "\n",
            "I have a hamster.\n",
            "My hamster's name is Harry.\n"
          ]
        }
      ]
    },
    {
      "cell_type": "markdown",
      "source": [
        "### Evitar errores de argumento"
      ],
      "metadata": {
        "id": "21XnPX-tssX5"
      }
    },
    {
      "cell_type": "code",
      "source": [
        "describe_pet()"
      ],
      "metadata": {
        "id": "-IP0e-bDrkhC",
        "outputId": "63b5965c-b945-46b4-fac7-8c1fdd6c0c35",
        "colab": {
          "base_uri": "https://localhost:8080/",
          "height": 166
        }
      },
      "execution_count": null,
      "outputs": [
        {
          "output_type": "error",
          "ename": "TypeError",
          "evalue": "ignored",
          "traceback": [
            "\u001b[0;31m---------------------------------------------------------------------------\u001b[0m",
            "\u001b[0;31mTypeError\u001b[0m                                 Traceback (most recent call last)",
            "\u001b[0;32m<ipython-input-44-f95e5f55e3d1>\u001b[0m in \u001b[0;36m<module>\u001b[0;34m()\u001b[0m\n\u001b[0;32m----> 1\u001b[0;31m \u001b[0mdescribe_pet\u001b[0m\u001b[0;34m(\u001b[0m\u001b[0;34m)\u001b[0m\u001b[0;34m\u001b[0m\u001b[0;34m\u001b[0m\u001b[0m\n\u001b[0m",
            "\u001b[0;31mTypeError\u001b[0m: describe_pet() missing 1 required positional argument: 'pet_name'"
          ]
        }
      ]
    },
    {
      "cell_type": "markdown",
      "source": [
        "---\n",
        "\n",
        "<b> Ejercicio 1</b>\n",
        "\n",
        "Escribe una función llamada **make_shirt()** que acepte un tamaño y el texto de un mensaje que debería estar impreso en la camiseta. La función debe imprimir una oración que resuma el tamaño de la camisa y el mensaje impreso en ella.\n",
        "\n",
        "Llame a la función una vez usando argumentos posicionales para hacer una camisa. Llame a la función por segunda vez usando argumentos de palabras clave.\n"
      ],
      "metadata": {
        "id": "ixT6ac8IrM_m"
      }
    },
    {
      "cell_type": "code",
      "source": [
        "def make_shirt(size, message):\n",
        "  \"\"\"La función imprime una oración que resume el tamaño de la camiseta y el mensaje impreso en ella.\"\"\"\n",
        "  print(f'El tamaño de la camiseta es {size} y el mensaje será \"{message}\".')\n",
        "\n"
      ],
      "metadata": {
        "id": "WUH6093hetPR"
      },
      "execution_count": null,
      "outputs": []
    },
    {
      "cell_type": "code",
      "source": [
        "make_shirt('30', 'Yo amo Python')"
      ],
      "metadata": {
        "id": "QDgZRP4afUb4",
        "outputId": "7bfab592-6f5d-409e-d188-70c66b69e4ed",
        "colab": {
          "base_uri": "https://localhost:8080/"
        }
      },
      "execution_count": null,
      "outputs": [
        {
          "output_type": "stream",
          "name": "stdout",
          "text": [
            "El tamaño de la camiseta es 30 y el mensaje será \"Yo amo Python\".\n"
          ]
        }
      ]
    },
    {
      "cell_type": "code",
      "source": [
        "make_shirt(size = '30', message = 'Yo amo Python')"
      ],
      "metadata": {
        "id": "9vRwPzcyfkad",
        "outputId": "4c37442e-10c5-42ab-ef1f-76f3e38109d6",
        "colab": {
          "base_uri": "https://localhost:8080/"
        }
      },
      "execution_count": null,
      "outputs": [
        {
          "output_type": "stream",
          "name": "stdout",
          "text": [
            "El tamaño de la camiseta es 30 y el mensaje será \"Yo amo Python\".\n"
          ]
        }
      ]
    },
    {
      "cell_type": "markdown",
      "source": [
        "---\n",
        "\n",
        "<b> Ejercicio 2</b>\n",
        "\n",
        "Modifique la función **make_shirt()** para que las camisetas sean grandes por defecto con un mensaje que diga Me encanta Python. Haz una camiseta grande y una camiseta mediana con el mensaje predeterminado y una camiseta de cualquier tamaño con un mensaje diferente.\n"
      ],
      "metadata": {
        "id": "SFKpbJpntvpg"
      }
    },
    {
      "cell_type": "code",
      "source": [
        "def make_shirt(size = 'grande', message = 'Me encanta Python'):\n",
        "  \"\"\"La función imprime una oración que resume el tamaño de la camiseta y el mensaje impreso en ella.\"\"\"\n",
        "  print(f'El tamaño de la camiseta es {size} y el mensaje será \"{message}\".')\n",
        "\n"
      ],
      "metadata": {
        "id": "wQnffLX4fzcB"
      },
      "execution_count": null,
      "outputs": []
    },
    {
      "cell_type": "code",
      "source": [
        "make_shirt()"
      ],
      "metadata": {
        "id": "31XFUoySf-Ik",
        "outputId": "e8c9ad39-4a38-420a-b997-e3d510588186",
        "colab": {
          "base_uri": "https://localhost:8080/"
        }
      },
      "execution_count": null,
      "outputs": [
        {
          "output_type": "stream",
          "name": "stdout",
          "text": [
            "El tamaño de la camiseta es grande y el mensaje será \"Me encanta Python\".\n"
          ]
        }
      ]
    },
    {
      "cell_type": "code",
      "source": [
        "make_shirt(size = 'mediano')"
      ],
      "metadata": {
        "id": "-kZMAQ8ggEVy",
        "outputId": "38813046-cf13-4d28-a0fd-2af641262726",
        "colab": {
          "base_uri": "https://localhost:8080/"
        }
      },
      "execution_count": null,
      "outputs": [
        {
          "output_type": "stream",
          "name": "stdout",
          "text": [
            "El tamaño de la camiseta es mediano y el mensaje será \"Me encanta Python\".\n"
          ]
        }
      ]
    },
    {
      "cell_type": "code",
      "source": [
        "make_shirt(message = 'I like google colab', size = 'pequeño')"
      ],
      "metadata": {
        "id": "ML-wEYnOgIcu",
        "outputId": "f7bfc549-efe0-4f76-d43d-e352a3ada741",
        "colab": {
          "base_uri": "https://localhost:8080/"
        }
      },
      "execution_count": null,
      "outputs": [
        {
          "output_type": "stream",
          "name": "stdout",
          "text": [
            "El tamaño de la camiseta es pequeño y el mensaje será \"I like google colab\".\n"
          ]
        }
      ]
    },
    {
      "cell_type": "markdown",
      "source": [
        "---\n",
        "\n",
        "<b> Ejercicio 3</b>\n",
        "\n",
        "Escribe una función llamada **describe_city()** que acepte el nombre de una ciudad y su país. La función debe imprimir una oración simple, como Reykjavik está en Islandia. Asigne al parámetro para el país un valor predeterminado. Llame a su función para tres ciudades diferentes, al menos una de las cuales no se encuentra en el país predeterminado.\n",
        "\n",
        "----"
      ],
      "metadata": {
        "id": "G0qpoz40uBJt"
      }
    },
    {
      "cell_type": "code",
      "source": [
        "def describe_city(city, country = 'Perú'):\n",
        "  \"\"\"This function display a city with it's country\"\"\"\n",
        "  print(f'{city} esta en {country}')\n",
        "  "
      ],
      "metadata": {
        "id": "wYkmaCJTgYzQ"
      },
      "execution_count": null,
      "outputs": []
    },
    {
      "cell_type": "code",
      "source": [
        "describe_city('Lima')"
      ],
      "metadata": {
        "id": "yG4HIzFVg2b-",
        "outputId": "a61af117-93ae-4904-81f0-f20258d35e2f",
        "colab": {
          "base_uri": "https://localhost:8080/"
        }
      },
      "execution_count": null,
      "outputs": [
        {
          "output_type": "stream",
          "name": "stdout",
          "text": [
            "Lima esta en Perú\n"
          ]
        }
      ]
    },
    {
      "cell_type": "code",
      "source": [
        "describe_city(city = 'Arequipa')"
      ],
      "metadata": {
        "id": "gnw4dg72g8bB",
        "outputId": "6c55bd71-e713-46be-d3a5-8a0a598fdf63",
        "colab": {
          "base_uri": "https://localhost:8080/"
        }
      },
      "execution_count": null,
      "outputs": [
        {
          "output_type": "stream",
          "name": "stdout",
          "text": [
            "Arequipa esta en Perú\n"
          ]
        }
      ]
    },
    {
      "cell_type": "code",
      "source": [
        "describe_city(city = 'Buenos aires', country = 'Argentina')"
      ],
      "metadata": {
        "id": "kOtceq7bhBRh",
        "outputId": "6022a32b-14a3-43f4-df1c-b2080de2b196",
        "colab": {
          "base_uri": "https://localhost:8080/"
        }
      },
      "execution_count": null,
      "outputs": [
        {
          "output_type": "stream",
          "name": "stdout",
          "text": [
            "Buenos aires esta en Argentina\n"
          ]
        }
      ]
    },
    {
      "cell_type": "markdown",
      "source": [
        "# 3. Valores de retorno"
      ],
      "metadata": {
        "id": "KvclreKqv6oG"
      }
    },
    {
      "cell_type": "markdown",
      "source": [
        "### Retornando un valor simple"
      ],
      "metadata": {
        "id": "4MH4CoJqwGiI"
      }
    },
    {
      "cell_type": "code",
      "source": [
        "def suma(a, b):\n",
        "  \"\"\"this function add two values\"\"\"\n",
        "  resultado = a + b\n",
        "  return resultado\n",
        "  "
      ],
      "metadata": {
        "id": "17hSBuN4hXzj"
      },
      "execution_count": null,
      "outputs": []
    },
    {
      "cell_type": "code",
      "source": [
        "suma(9, 15)"
      ],
      "metadata": {
        "id": "FSesr4GnhzX2",
        "outputId": "6cb6d44b-b8e9-4e6c-ef90-9e8de4a088ba",
        "colab": {
          "base_uri": "https://localhost:8080/"
        }
      },
      "execution_count": null,
      "outputs": [
        {
          "output_type": "execute_result",
          "data": {
            "text/plain": [
              "24"
            ]
          },
          "metadata": {},
          "execution_count": 60
        }
      ]
    },
    {
      "cell_type": "code",
      "source": [
        "sum_res = suma(10, 15)\n",
        "sum_res*2"
      ],
      "metadata": {
        "id": "EsOHxS11hXiq",
        "outputId": "63ce18ad-e5e3-4cda-d897-85d83a34020f",
        "colab": {
          "base_uri": "https://localhost:8080/"
        }
      },
      "execution_count": null,
      "outputs": [
        {
          "output_type": "execute_result",
          "data": {
            "text/plain": [
              "50"
            ]
          },
          "metadata": {},
          "execution_count": 63
        }
      ]
    },
    {
      "cell_type": "code",
      "source": [
        "\n",
        "def get_formatted_name(first_name, last_name):\n",
        "    \"\"\"Return a full name, neatly formatted.\"\"\"\n",
        "    full_name = f\"{first_name} {last_name}\"\n",
        "    return full_name.title()\n"
      ],
      "metadata": {
        "id": "tclx-QIeuAo1"
      },
      "execution_count": null,
      "outputs": []
    },
    {
      "cell_type": "code",
      "source": [
        "get_formatted_name('jimi', 'hendrix')"
      ],
      "metadata": {
        "id": "hXeLNupPiWmg",
        "outputId": "640357cf-7f12-4c69-bfb4-042f6475c68d",
        "colab": {
          "base_uri": "https://localhost:8080/",
          "height": 35
        }
      },
      "execution_count": null,
      "outputs": [
        {
          "output_type": "execute_result",
          "data": {
            "text/plain": [
              "'Jimi Hendrix'"
            ],
            "application/vnd.google.colaboratory.intrinsic+json": {
              "type": "string"
            }
          },
          "metadata": {},
          "execution_count": 65
        }
      ]
    },
    {
      "cell_type": "code",
      "source": [
        "musician = get_formatted_name('jimi', 'hendrix')"
      ],
      "metadata": {
        "id": "C5YJZL-VibbL"
      },
      "execution_count": null,
      "outputs": []
    },
    {
      "cell_type": "code",
      "source": [
        "print(musician)"
      ],
      "metadata": {
        "id": "6ddSYS13iiQY",
        "outputId": "d9e38db4-45b0-42f7-a41e-a799566a757e",
        "colab": {
          "base_uri": "https://localhost:8080/"
        }
      },
      "execution_count": null,
      "outputs": [
        {
          "output_type": "stream",
          "name": "stdout",
          "text": [
            "Jimi Hendrix\n"
          ]
        }
      ]
    },
    {
      "cell_type": "code",
      "source": [
        "musician = get_formatted_name('jimi', 'hendrix')\n",
        "print(musician)"
      ],
      "metadata": {
        "id": "27sXBuEKwOim",
        "outputId": "b28dc49e-f353-4291-9df7-a777de9ae4f5",
        "colab": {
          "base_uri": "https://localhost:8080/"
        }
      },
      "execution_count": null,
      "outputs": [
        {
          "output_type": "stream",
          "name": "stdout",
          "text": [
            "Jimi Hendrix\n"
          ]
        }
      ]
    },
    {
      "cell_type": "markdown",
      "source": [
        "### Argumento opcional"
      ],
      "metadata": {
        "id": "nao5U4jDw4jG"
      }
    },
    {
      "cell_type": "code",
      "source": [
        "def get_formatted_name(first_name, middle_name, last_name):\n",
        "    \"\"\"Return a full name, neatly formatted.\"\"\"\n",
        "    full_name = f\"{first_name} {middle_name} {last_name}\"\n",
        "    return full_name.title()\n"
      ],
      "metadata": {
        "id": "EeNB31AJw33c"
      },
      "execution_count": null,
      "outputs": []
    },
    {
      "cell_type": "code",
      "source": [
        "musician = get_formatted_name('john', 'lee', 'hooker')\n",
        "print(musician)"
      ],
      "metadata": {
        "id": "vAPRn5tyw-Hf",
        "outputId": "e5bb79c6-a9c5-44cf-da7c-34b7f84db2f7",
        "colab": {
          "base_uri": "https://localhost:8080/"
        }
      },
      "execution_count": null,
      "outputs": [
        {
          "output_type": "stream",
          "name": "stdout",
          "text": [
            "John Lee Hooker\n"
          ]
        }
      ]
    },
    {
      "cell_type": "code",
      "source": [
        "def get_formatted_name(first_name, last_name, middle_name=''):\n",
        "  \"\"\"Return a full name\"\"\"\n",
        "  if middle_name:\n",
        "    full_name = f\"{first_name} {middle_name} {last_name}\"\n",
        "  else:\n",
        "    full_name = f\"{first_name} {last_name}\"\n",
        "  return full_name\n"
      ],
      "metadata": {
        "id": "_dFbUYqVjA_T"
      },
      "execution_count": null,
      "outputs": []
    },
    {
      "cell_type": "code",
      "source": [
        "def get_formatted_name(first_name, last_name, middle_name=''):\n",
        "  \"\"\"Return a full name, neatly formatted.\"\"\"\n",
        "  if middle_name:\n",
        "    full_name = f\"{first_name} {middle_name} {last_name}\"\n",
        "  else:\n",
        "    full_name = f\"{first_name} {last_name}\"\n",
        "  return full_name.title()\n",
        "  "
      ],
      "metadata": {
        "id": "8DUIP8RNx0ep"
      },
      "execution_count": null,
      "outputs": []
    },
    {
      "cell_type": "code",
      "source": [
        "musician = get_formatted_name('jimi', 'hendrix')\n",
        "print(musician)"
      ],
      "metadata": {
        "id": "4AVIjrmZyFAA",
        "outputId": "da597ffa-3c3d-4a56-8d56-f50bc002644b",
        "colab": {
          "base_uri": "https://localhost:8080/"
        }
      },
      "execution_count": null,
      "outputs": [
        {
          "output_type": "stream",
          "name": "stdout",
          "text": [
            "jimi hendrix\n"
          ]
        }
      ]
    },
    {
      "cell_type": "code",
      "source": [
        "musician = get_formatted_name('john', 'hooker', 'lee')\n",
        "print(musician)"
      ],
      "metadata": {
        "id": "MdzB5-zhzC47",
        "outputId": "681262de-9532-4ea8-ab5d-4ffe9a105837",
        "colab": {
          "base_uri": "https://localhost:8080/"
        }
      },
      "execution_count": null,
      "outputs": [
        {
          "output_type": "stream",
          "name": "stdout",
          "text": [
            "john lee hooker\n"
          ]
        }
      ]
    },
    {
      "cell_type": "markdown",
      "source": [
        "### Retornar un diccionario"
      ],
      "metadata": {
        "id": "vpguPIrPzgtU"
      }
    },
    {
      "cell_type": "code",
      "source": [
        "my_dict = {'EN01': \"Clases de ingles\",\n",
        "           'PY02': \"Clases de python\",\n",
        "           'MU03': \"Clases de musica\"}\n",
        "\n"
      ],
      "metadata": {
        "id": "WRoRgzkKk6or"
      },
      "execution_count": null,
      "outputs": []
    },
    {
      "cell_type": "code",
      "source": [
        "my_dict['PY02']"
      ],
      "metadata": {
        "id": "5OPHWg2llbFL",
        "outputId": "8b4a981b-59b0-4807-fefc-11cfe17afad7",
        "colab": {
          "base_uri": "https://localhost:8080/",
          "height": 35
        }
      },
      "execution_count": null,
      "outputs": [
        {
          "output_type": "execute_result",
          "data": {
            "text/plain": [
              "'Clases de python'"
            ],
            "application/vnd.google.colaboratory.intrinsic+json": {
              "type": "string"
            }
          },
          "metadata": {},
          "execution_count": 78
        }
      ]
    },
    {
      "cell_type": "code",
      "source": [
        "my_dict['DA04'] = \"Clases de danza\""
      ],
      "metadata": {
        "id": "EbgvJud4lxiF"
      },
      "execution_count": null,
      "outputs": []
    },
    {
      "cell_type": "code",
      "source": [
        "my_dict"
      ],
      "metadata": {
        "id": "zUESmXDgl471",
        "outputId": "bd6bbe37-d68c-40f7-ba00-c49140b46c66",
        "colab": {
          "base_uri": "https://localhost:8080/"
        }
      },
      "execution_count": null,
      "outputs": [
        {
          "output_type": "execute_result",
          "data": {
            "text/plain": [
              "{'DA04': 'Clases de danza',\n",
              " 'EN01': 'Clases de ingles',\n",
              " 'MU03': 'Clases de musica',\n",
              " 'PY02': 'Clases de python'}"
            ]
          },
          "metadata": {},
          "execution_count": 80
        }
      ]
    },
    {
      "cell_type": "code",
      "source": [
        "def build_person(first_name, last_name):\n",
        "  \"\"\"Return a dictionary of information about a person.\"\"\"\n",
        "  person = {'first': first_name, 'last': last_name}\n",
        "  return person\n"
      ],
      "metadata": {
        "id": "YI9nCBdEzxk0"
      },
      "execution_count": null,
      "outputs": []
    },
    {
      "cell_type": "code",
      "source": [
        "musician = build_person('jimi', 'hendrix')\n",
        "print(musician)"
      ],
      "metadata": {
        "id": "z2mXqnXI0Jet",
        "outputId": "92b02270-ea81-46a0-df1a-09140f87b429",
        "colab": {
          "base_uri": "https://localhost:8080/"
        }
      },
      "execution_count": null,
      "outputs": [
        {
          "output_type": "stream",
          "name": "stdout",
          "text": [
            "{'first': 'jimi', 'last': 'hendrix'}\n"
          ]
        }
      ]
    },
    {
      "cell_type": "code",
      "source": [
        "def build_person(first_name, last_name, age=None):\n",
        "    \"\"\"Return a dictionary of information about a person.\"\"\"\n",
        "    person = {'first': first_name, 'last': last_name}\n",
        "    if age:\n",
        "        person['age'] = age\n",
        "    return person\n"
      ],
      "metadata": {
        "id": "3Pw2MCrY0gqb"
      },
      "execution_count": null,
      "outputs": []
    },
    {
      "cell_type": "code",
      "source": [
        "musician = build_person('jimi', 'hendrix', age=27)\n",
        "print(musician)"
      ],
      "metadata": {
        "colab": {
          "base_uri": "https://localhost:8080/"
        },
        "id": "_7hf5yuE0iS0",
        "outputId": "ab3c8af8-d40b-42f3-d0c6-14db59973e56"
      },
      "execution_count": null,
      "outputs": [
        {
          "output_type": "stream",
          "name": "stdout",
          "text": [
            "{'first': 'jimi', 'last': 'hendrix', 'age': 27}\n"
          ]
        }
      ]
    },
    {
      "cell_type": "code",
      "source": [
        "musician = build_person('jimi', 'hendrix')\n",
        "print(musician)"
      ],
      "metadata": {
        "id": "524-cV8DnDs2",
        "outputId": "a892d087-2ab4-4494-ce21-438cc321eb90",
        "colab": {
          "base_uri": "https://localhost:8080/"
        }
      },
      "execution_count": null,
      "outputs": [
        {
          "output_type": "stream",
          "name": "stdout",
          "text": [
            "{'first': 'jimi', 'last': 'hendrix'}\n"
          ]
        }
      ]
    },
    {
      "cell_type": "markdown",
      "source": [
        "# 4. Usando funciones con loops while"
      ],
      "metadata": {
        "id": "tSAkV-as0rdS"
      }
    },
    {
      "cell_type": "code",
      "source": [
        "def get_formatted_name(first_name, last_name):\n",
        "    \"\"\"Return a full name, neatly formatted.\"\"\"\n",
        "    full_name = f\"{first_name} {last_name}\"\n",
        "    return full_name\n"
      ],
      "metadata": {
        "id": "c0OXOywJ1G3J"
      },
      "execution_count": null,
      "outputs": []
    },
    {
      "cell_type": "code",
      "source": [
        "\n",
        "# Este es un loop infinito!\n",
        "while True:\n",
        "    print(\"\\nPlease tell me your name:\")\n",
        "    f_name = input(\"First name: \")\n",
        "    l_name = input(\"Last name: \")\n",
        "    formatted_name = get_formatted_name(f_name, l_name)\n",
        "    print(f\"\\nHello, {formatted_name}!\")\n"
      ],
      "metadata": {
        "id": "zcGug0pB1IXp"
      },
      "execution_count": null,
      "outputs": []
    },
    {
      "cell_type": "code",
      "source": [
        "def get_formatted_name(first_name, last_name):\n",
        "    \"\"\"Return a full name, neatly formatted.\"\"\"\n",
        "    full_name = f\"{first_name} {last_name}\"\n",
        "    return full_name\n",
        "\n",
        "while True:\n",
        "    print(\"\\nPlease tell me your name:\")\n",
        "    print(\"(enter 'quit' at any time to quit)\")\n",
        "\n",
        "    f_name = input(\"First name: \")\n",
        "    if f_name == 'quit':\n",
        "        break\n",
        "\n",
        "    l_name = input(\"Last name: \")\n",
        "    if l_name == 'quit':\n",
        "        break\n",
        "\n",
        "    formatted_name = get_formatted_name(f_name, l_name)\n",
        "    print(f\"\\nHello, {formatted_name}!\")\n",
        "    "
      ],
      "metadata": {
        "id": "s6o4iZze1INO",
        "outputId": "1f342c0b-e19d-4d94-98f8-9da611a16abc",
        "colab": {
          "base_uri": "https://localhost:8080/"
        }
      },
      "execution_count": null,
      "outputs": [
        {
          "name": "stdout",
          "output_type": "stream",
          "text": [
            "\n",
            "Please tell me your name:\n",
            "(enter 'quit' at any time to quit)\n",
            "First name: John\n",
            "Last name: Caballero\n",
            "\n",
            "Hello, John Caballero!\n",
            "\n",
            "Please tell me your name:\n",
            "(enter 'quit' at any time to quit)\n",
            "First name: quit\n"
          ]
        }
      ]
    },
    {
      "cell_type": "markdown",
      "source": [
        "---\n",
        "\n",
        "<b> Ejercicio 1</b>\n",
        "\n",
        "Escribe una función llamada **city_country()** que tome el nombre de una ciudad y su país. La función debería devolver una cadena con el formato siguiente:\n",
        "\n",
        "\"Santiago, Chile\"\n",
        "\n",
        "Llame a su función con al menos tres pares de ciudades y países e imprima los valores que se devuelven.\n"
      ],
      "metadata": {
        "id": "WtFtOrbS4BzE"
      }
    },
    {
      "cell_type": "code",
      "source": [
        "def city_country(ciudades, paises):\n",
        "   \"\"\" retorna paises y ciudades\"\"\"\n",
        "   full_city = f\" {ciudades}, {paises} \"\n",
        "   return full_city.title()\n",
        "\n",
        "while True:\n",
        "   print(\"Escriba quit si desea salir\")\n",
        "\n",
        "   f_ciudades = input(\"Ciudad: \")\n",
        "   if f_ciudades =='quit':\n",
        "       break\n",
        "\n",
        "   f_paises = input(\"Pais: \")\n",
        "   if f_paises == 'quit':\n",
        "       break\n",
        "   city_completed = city_country(f_ciudades, f_paises)\n",
        "   print(f\"{city_completed}\")\n"
      ],
      "metadata": {
        "id": "WSb8L5D2yJwU",
        "outputId": "3bf1e25f-ea9f-4ec2-d2cf-ca401a1d6deb",
        "colab": {
          "base_uri": "https://localhost:8080/"
        }
      },
      "execution_count": null,
      "outputs": [
        {
          "name": "stdout",
          "output_type": "stream",
          "text": [
            "\n",
            "Escriba el nombre de la ciudad\n",
            "Escriba quit si desea salir\n",
            "Ciudad: Lima\n",
            "Pais: Peru\n",
            "Country:  Lima, Peru \n",
            "\n",
            "Escriba el nombre de la ciudad\n",
            "Escriba quit si desea salir\n",
            "Ciudad: quit\n"
          ]
        }
      ]
    },
    {
      "cell_type": "markdown",
      "source": [
        "---\n",
        "\n",
        "<b> Ejercicio 2</b>\n",
        "\n",
        "Escriba una función llamada **make_album()** que cree un diccionario que describa un álbum de música. La función debe tomar el nombre de un artista y el título de un álbum, y debe devolver un diccionario que contenga estos dos datos. Utilice la función para crear tres diccionarios que representen diferentes álbumes. Imprima cada valor devuelto para mostrar que los diccionarios están almacenando la información del álbum correctamente.\n",
        "\n",
        "Use <b>None</b> para agregar un parámetro opcional a **make_album()** que le permita almacenar la cantidad de canciones en un álbum. Si la línea de llamada incluye un valor para la cantidad de canciones, agregue ese valor al diccionario del álbum. Realice al menos una nueva llamada de función que incluya la cantidad de canciones en un álbum."
      ],
      "metadata": {
        "id": "z06Pz7sy4YG0"
      }
    },
    {
      "cell_type": "markdown",
      "source": [
        "---\n",
        "\n",
        "<b> Ejercicio 3</b>\n",
        "\n",
        "Comience con su programa del ejercicio anterior. Escriba un ciclo while que permita a los usuarios ingresar el artista y el título de un álbum. Una vez que tenga esa información, llame a **make_album()** con la entrada del usuario e imprima el diccionario que se crea. Asegúrese de incluir un valor de salida en el ciclo while.\n",
        "\n",
        "---"
      ],
      "metadata": {
        "id": "5iazrd6w5n-m"
      }
    },
    {
      "cell_type": "markdown",
      "source": [
        "# 5. Usando Listas"
      ],
      "metadata": {
        "id": "pdvnfTPo6-Lq"
      }
    },
    {
      "cell_type": "code",
      "source": [
        "def greet_users(names):\n",
        "    \"\"\"Print a simple greeting to each user in the list.\"\"\"\n",
        "    for name in names:\n",
        "      msg = f\"Hola, {name}!\"\n",
        "      print(msg)"
      ],
      "metadata": {
        "id": "4dRXDc0j1Cbw"
      },
      "execution_count": null,
      "outputs": []
    },
    {
      "cell_type": "code",
      "source": [
        "greet_users(['John', 'Tamara', 'Fernando'])"
      ],
      "metadata": {
        "id": "p9ZGdx5H1Smm",
        "outputId": "fe75fdc6-b1c2-4137-a2e8-57098b6d13e7",
        "colab": {
          "base_uri": "https://localhost:8080/"
        }
      },
      "execution_count": null,
      "outputs": [
        {
          "output_type": "stream",
          "name": "stdout",
          "text": [
            "Hola, John!\n",
            "Hola, Tamara!\n",
            "Hola, Fernando!\n"
          ]
        }
      ]
    },
    {
      "cell_type": "code",
      "source": [
        "def greet_users(names):\n",
        "    \"\"\"Print a simple greeting to each user in the list.\"\"\"\n",
        "    for name in names:\n",
        "        msg = f\"Hello, {name.title()}!\"\n",
        "        print(msg)\n"
      ],
      "metadata": {
        "id": "BGbejE2r4A1P"
      },
      "execution_count": null,
      "outputs": []
    },
    {
      "cell_type": "code",
      "source": [
        "usernames = ['hannah', 'ty', 'margot']\n",
        "greet_users(usernames)"
      ],
      "metadata": {
        "id": "TfEjqeW08hQV"
      },
      "execution_count": null,
      "outputs": []
    },
    {
      "cell_type": "markdown",
      "source": [
        "### Modificar una lista en una función"
      ],
      "metadata": {
        "id": "irQJwQco81wH"
      }
    },
    {
      "cell_type": "code",
      "source": [
        "unprinted_designs = ['phone case', 'robot pendant', 'dodecahedron']\n",
        "unprinted_designs"
      ],
      "metadata": {
        "id": "XqjKX2vW2Djg",
        "outputId": "a5b9f0c1-24d1-44b5-83dd-de3ba1f59259",
        "colab": {
          "base_uri": "https://localhost:8080/"
        }
      },
      "execution_count": null,
      "outputs": [
        {
          "output_type": "execute_result",
          "data": {
            "text/plain": [
              "['phone case', 'robot pendant', 'dodecahedron']"
            ]
          },
          "metadata": {},
          "execution_count": 97
        }
      ]
    },
    {
      "cell_type": "code",
      "source": [
        "unprinted_designs.pop()\n"
      ],
      "metadata": {
        "id": "-i80y_zF2Bed",
        "outputId": "76dd8bbe-a2b8-4e8c-84ae-8232ec257d7c",
        "colab": {
          "base_uri": "https://localhost:8080/",
          "height": 35
        }
      },
      "execution_count": null,
      "outputs": [
        {
          "output_type": "execute_result",
          "data": {
            "text/plain": [
              "'dodecahedron'"
            ],
            "application/vnd.google.colaboratory.intrinsic+json": {
              "type": "string"
            }
          },
          "metadata": {},
          "execution_count": 98
        }
      ]
    },
    {
      "cell_type": "code",
      "source": [
        "unprinted_designs"
      ],
      "metadata": {
        "id": "pmlp8rXN2Lt6",
        "outputId": "347b3c55-4f31-47e0-91ed-dfa93995b842",
        "colab": {
          "base_uri": "https://localhost:8080/"
        }
      },
      "execution_count": null,
      "outputs": [
        {
          "output_type": "execute_result",
          "data": {
            "text/plain": [
              "['phone case', 'robot pendant']"
            ]
          },
          "metadata": {},
          "execution_count": 99
        }
      ]
    },
    {
      "cell_type": "code",
      "source": [
        "completed_models = []"
      ],
      "metadata": {
        "id": "cGnEviba2fUf"
      },
      "execution_count": null,
      "outputs": []
    },
    {
      "cell_type": "code",
      "source": [
        "completed_models.append('John')"
      ],
      "metadata": {
        "id": "fdEvjPMq2hBN"
      },
      "execution_count": null,
      "outputs": []
    },
    {
      "cell_type": "code",
      "source": [
        "completed_models"
      ],
      "metadata": {
        "id": "6w1LVHrt2kCw",
        "outputId": "a4947679-ae9a-4cdf-a490-277f4158cf50",
        "colab": {
          "base_uri": "https://localhost:8080/"
        }
      },
      "execution_count": null,
      "outputs": [
        {
          "output_type": "execute_result",
          "data": {
            "text/plain": [
              "['John']"
            ]
          },
          "metadata": {},
          "execution_count": 102
        }
      ]
    },
    {
      "cell_type": "code",
      "source": [
        "# Comience con algunos diseños que deben imprimirse.\n",
        "unprinted_designs = ['phone case', 'robot pendant', 'dodecahedron']\n",
        "completed_models = []\n",
        "\n",
        "# Simule la impresión de cada diseño, hasta que no quede ninguno.\n",
        "# Mueva cada diseño a complete_models después de la impresión.\n",
        "while unprinted_designs:\n",
        "    current_design = unprinted_designs.pop()\n",
        "    print(f\"Printing model: {current_design}\")\n",
        "    completed_models.append(current_design)\n",
        "\n",
        "# Mostrar todos los modelos completados.\n",
        "print(\"\\nThe following models have been printed:\")\n",
        "for completed_model in completed_models:\n",
        "    print(completed_model)"
      ],
      "metadata": {
        "id": "68vDvNTE85BG",
        "outputId": "eae80251-e7f3-4930-9ba0-fa4b1eb26d30",
        "colab": {
          "base_uri": "https://localhost:8080/"
        }
      },
      "execution_count": null,
      "outputs": [
        {
          "output_type": "stream",
          "name": "stdout",
          "text": [
            "Printing model: dodecahedron\n",
            "Printing model: robot pendant\n",
            "Printing model: phone case\n",
            "\n",
            "The following models have been printed:\n",
            "dodecahedron\n",
            "robot pendant\n",
            "phone case\n"
          ]
        }
      ]
    },
    {
      "cell_type": "code",
      "source": [
        "\n",
        "def print_models(unprinted_designs, completed_models):\n",
        "    \"\"\"\n",
        "    Simulate printing each design, until none are left.\n",
        "    Move each design to completed_models after printing.\n",
        "    \"\"\"\n",
        "    while unprinted_designs:\n",
        "        current_design = unprinted_designs.pop()\n",
        "        print(f\"Printing model: {current_design}\")\n",
        "        completed_models.append(current_design)\n",
        "\n",
        "def show_completed_models(completed_models):\n",
        "    \"\"\"Show all the models that were printed.\"\"\"\n",
        "    print(\"\\nThe following models have been printed:\")\n",
        "    for completed_model in completed_models:\n",
        "        print(completed_model)\n",
        "\n"
      ],
      "metadata": {
        "id": "d2v14isCBl7k"
      },
      "execution_count": null,
      "outputs": []
    },
    {
      "cell_type": "code",
      "source": [
        "unprinted_designs = ['phone case', 'robot pendant', 'dodecahedron']\n",
        "completed_models = []\n",
        "\n"
      ],
      "metadata": {
        "id": "3F3aSIhnCJRS"
      },
      "execution_count": null,
      "outputs": []
    },
    {
      "cell_type": "code",
      "source": [
        "print_models(unprinted_designs, completed_models)\n",
        "show_completed_models(completed_models)\n"
      ],
      "metadata": {
        "id": "wH-0lGn73esW",
        "outputId": "7207c6ea-e816-46fe-c406-64359f169026",
        "colab": {
          "base_uri": "https://localhost:8080/"
        }
      },
      "execution_count": null,
      "outputs": [
        {
          "output_type": "stream",
          "name": "stdout",
          "text": [
            "Printing model: dodecahedron\n",
            "Printing model: robot pendant\n",
            "Printing model: phone case\n",
            "\n",
            "The following models have been printed:\n",
            "dodecahedron\n",
            "robot pendant\n",
            "phone case\n"
          ]
        }
      ]
    },
    {
      "cell_type": "markdown",
      "source": [
        "---\n",
        "\n",
        "<b> Ejercicio 1</b>\n",
        "\n",
        "Haz una lista que contenga una serie de mensajes de texto cortos. Pase la lista a una función llamada **show_messages()**, que imprime cada mensaje de texto.\n"
      ],
      "metadata": {
        "id": "AxoQ8UkPLzhr"
      }
    },
    {
      "cell_type": "code",
      "source": [
        "def show_messages(messages):\n",
        "  for message in messages:\n",
        "    print(f'\\n{message}')\n"
      ],
      "metadata": {
        "id": "s0rWgO0K5huY"
      },
      "execution_count": null,
      "outputs": []
    },
    {
      "cell_type": "code",
      "source": [
        "show_messages(['mensaje 1','mensaje 2','mensaje 3'])"
      ],
      "metadata": {
        "id": "Fuy0Z6jf6IQd",
        "outputId": "ff36c8e9-dc83-4218-c3c8-b9c833949aa0",
        "colab": {
          "base_uri": "https://localhost:8080/"
        }
      },
      "execution_count": null,
      "outputs": [
        {
          "output_type": "stream",
          "name": "stdout",
          "text": [
            "\n",
            " mensaje 1\n",
            "\n",
            " mensaje 2\n",
            "\n",
            " mensaje 3\n"
          ]
        }
      ]
    },
    {
      "cell_type": "markdown",
      "source": [
        "---\n",
        "\n",
        "<b> Ejercicio 2</b>\n",
        "\n",
        "Comience con una copia de su programa del Ejercicio anterior. Escriba una función llamada **send_messages()** que imprima cada mensaje de texto y mueva cada mensaje a una nueva lista llamada sent_messages a medida que se imprime. Después de llamar a la función, imprima ambas listas para asegurarse de que los mensajes se movieron correctamente."
      ],
      "metadata": {
        "id": "cr6vkbj-L_4Q"
      }
    },
    {
      "cell_type": "code",
      "source": [
        ""
      ],
      "metadata": {
        "id": "xjbvhpY55iLV"
      },
      "execution_count": null,
      "outputs": []
    },
    {
      "cell_type": "markdown",
      "source": [
        "---\n",
        "\n",
        "<b> Ejercicio 3</b>\n",
        "\n",
        "Comience con su trabajo del Ejercicio anterior. Llame a la función **send_messages()** con una copia de la lista de mensajes. Después de llamar a la función, imprima ambas listas para mostrar que la lista original ha conservado sus mensajes.\n",
        "\n",
        "---"
      ],
      "metadata": {
        "id": "DeKTopX9McDP"
      }
    },
    {
      "cell_type": "markdown",
      "source": [
        "# 6. Pasar un número arbitrario de argumentos"
      ],
      "metadata": {
        "id": "Wnme938ANSqz"
      }
    },
    {
      "cell_type": "code",
      "source": [
        "def make_pizza(*toppings):\n",
        "    \"\"\"Print the list of toppings that have been requested.\"\"\"\n",
        "    print(toppings)\n"
      ],
      "metadata": {
        "id": "GqEL53UHDxWl"
      },
      "execution_count": null,
      "outputs": []
    },
    {
      "cell_type": "code",
      "source": [
        "make_pizza('pepperoni')"
      ],
      "metadata": {
        "id": "6QleoN8X63w-",
        "outputId": "4c206f44-458d-451f-b15b-15806210b727",
        "colab": {
          "base_uri": "https://localhost:8080/"
        }
      },
      "execution_count": null,
      "outputs": [
        {
          "output_type": "stream",
          "name": "stdout",
          "text": [
            "('pepperoni',)\n"
          ]
        }
      ]
    },
    {
      "cell_type": "code",
      "source": [
        "\n",
        "make_pizza('mushrooms', 'green peppers', 'extra cheese')"
      ],
      "metadata": {
        "colab": {
          "base_uri": "https://localhost:8080/"
        },
        "id": "SQgZl_dgDwue",
        "outputId": "e9b51113-f982-41a9-ab7f-4d8da3ca1e09"
      },
      "execution_count": null,
      "outputs": [
        {
          "output_type": "stream",
          "name": "stdout",
          "text": [
            "('mushrooms', 'green peppers', 'extra cheese')\n"
          ]
        }
      ]
    },
    {
      "cell_type": "code",
      "source": [
        "def make_pizza(*toppings):\n",
        "    \"\"\"Summarize the pizza we are about to make.\"\"\"\n",
        "    print(\"\\nMaking a pizza with the following toppings:\")\n",
        "    for topping in toppings:\n",
        "        print(f\"- {topping}\")\n"
      ],
      "metadata": {
        "id": "_fejq6AGN0Uf"
      },
      "execution_count": null,
      "outputs": []
    },
    {
      "cell_type": "code",
      "source": [
        "make_pizza('pepperoni')\n",
        "make_pizza('mushrooms', 'green peppers', 'extra cheese')"
      ],
      "metadata": {
        "id": "-9hL5oSIN07z",
        "outputId": "0b7266d3-50bc-480f-c906-5bf8967d2ba5",
        "colab": {
          "base_uri": "https://localhost:8080/"
        }
      },
      "execution_count": null,
      "outputs": [
        {
          "output_type": "stream",
          "name": "stdout",
          "text": [
            "\n",
            "Making a pizza with the following toppings:\n",
            "- pepperoni\n",
            "\n",
            "Making a pizza with the following toppings:\n",
            "- mushrooms\n",
            "- green peppers\n",
            "- extra cheese\n"
          ]
        }
      ]
    },
    {
      "cell_type": "markdown",
      "source": [
        "### Mezclar argumentos posicionales y arbitrarios"
      ],
      "metadata": {
        "id": "8NrI0kgCOLN2"
      }
    },
    {
      "cell_type": "code",
      "source": [
        "def make_pizza(size, *toppings):\n",
        "    \"\"\"Summarize the pizza we are about to make.\"\"\"\n",
        "    print(f\"\\nMaking a {size}-inch pizza with the following toppings:\")\n",
        "    for topping in toppings:\n",
        "        print(f\"- {topping}\")\n"
      ],
      "metadata": {
        "id": "LItqvKT2OMdS"
      },
      "execution_count": null,
      "outputs": []
    },
    {
      "cell_type": "code",
      "source": [
        "make_pizza(16, 'pepperoni')\n",
        "make_pizza(12, 'mushrooms', 'green peppers', 'extra cheese')"
      ],
      "metadata": {
        "id": "9OJO5HC0OTEP",
        "outputId": "a17dec6f-9469-4f2e-b505-1aa3a36491d6",
        "colab": {
          "base_uri": "https://localhost:8080/"
        }
      },
      "execution_count": null,
      "outputs": [
        {
          "output_type": "stream",
          "name": "stdout",
          "text": [
            "\n",
            "Making a 16-inch pizza with the following toppings:\n",
            "- pepperoni\n",
            "\n",
            "Making a 12-inch pizza with the following toppings:\n",
            "- mushrooms\n",
            "- green peppers\n",
            "- extra cheese\n"
          ]
        }
      ]
    },
    {
      "cell_type": "markdown",
      "source": [
        "### Uso de argumentos de palabras clave arbitrarias"
      ],
      "metadata": {
        "id": "N6DxNYhpO_PL"
      }
    },
    {
      "cell_type": "code",
      "source": [
        "{'a':'a1',\n",
        " }"
      ],
      "metadata": {
        "id": "N7rGzzAi72fD"
      },
      "execution_count": null,
      "outputs": []
    },
    {
      "cell_type": "code",
      "source": [
        "my_dict['a'] = 'a1' "
      ],
      "metadata": {
        "id": "xBUVzZSU756z"
      },
      "execution_count": null,
      "outputs": []
    },
    {
      "cell_type": "code",
      "source": [
        "def build_profile(first, last, **user_info):\n",
        "    \"\"\"Build a dictionary containing everything we know about a user.\"\"\"\n",
        "    user_info['first_name'] = first\n",
        "    user_info['last_name'] = last\n",
        "    return user_info\n"
      ],
      "metadata": {
        "id": "tXBMgW8JPAyn"
      },
      "execution_count": null,
      "outputs": []
    },
    {
      "cell_type": "code",
      "source": [
        "user_profile = build_profile('albert', 'einstein')\n",
        "print(user_profile)"
      ],
      "metadata": {
        "id": "5Vgv0LQU8G_q",
        "outputId": "4db070a0-632f-4376-8738-a54a92c09ab5",
        "colab": {
          "base_uri": "https://localhost:8080/"
        }
      },
      "execution_count": null,
      "outputs": [
        {
          "output_type": "stream",
          "name": "stdout",
          "text": [
            "{'first_name': 'albert', 'last_name': 'einstein'}\n"
          ]
        }
      ]
    },
    {
      "cell_type": "code",
      "source": [
        "user_profile = build_profile('albert', 'einstein',\n",
        "                             location='princeton',\n",
        "                             field='physics')\n",
        "print(user_profile)"
      ],
      "metadata": {
        "id": "uW5z9dNTPKyu",
        "outputId": "f1979794-32e9-4df3-c83b-ebb338720c59",
        "colab": {
          "base_uri": "https://localhost:8080/"
        }
      },
      "execution_count": null,
      "outputs": [
        {
          "output_type": "stream",
          "name": "stdout",
          "text": [
            "{'location': 'princeton', 'field': 'physics', 'first_name': 'albert', 'last_name': 'einstein'}\n"
          ]
        }
      ]
    },
    {
      "cell_type": "code",
      "source": [
        "user_profile = build_profile('John', 'Caballero',\n",
        "                             location='Peru',\n",
        "                             field='estadística',\n",
        "                             age=30,\n",
        "                             colour='azul')\n",
        "print(user_profile)"
      ],
      "metadata": {
        "id": "NgTwtf_H8YKu",
        "outputId": "57a69b5a-d7de-4ee6-9f49-2dabf7476a02",
        "colab": {
          "base_uri": "https://localhost:8080/"
        }
      },
      "execution_count": null,
      "outputs": [
        {
          "output_type": "stream",
          "name": "stdout",
          "text": [
            "{'location': 'Peru', 'field': 'estadística', 'age': 30, 'colour': 'azul', 'first_name': 'John', 'last_name': 'Caballero'}\n"
          ]
        }
      ]
    },
    {
      "cell_type": "markdown",
      "source": [
        "---\n",
        "\n",
        "<b> Ejercicio 1</b>\n",
        "\n",
        "Escribe una función que acepte una lista de artículos que una persona quiere en un sándwich. La función debe tener un parámetro que recopile tantos elementos como proporcione la llamada a la función, y debe imprimir un resumen del sándwich que se está ordenando. Llame a la función tres veces, usando un número diferente de argumentos cada vez."
      ],
      "metadata": {
        "id": "0kYhXVPvQSh_"
      }
    },
    {
      "cell_type": "code",
      "source": [
        "def make_sandwich(*toppings):\n",
        "  \"\"\"This function displays a sandwich toppings\"\"\"\n",
        "  print('\\nLa pizza contiene los siguientes toppings:')\n",
        "  for topping in toppings:\n",
        "    print(f'- {topping}')  \n"
      ],
      "metadata": {
        "id": "rDcNXtPv8we_"
      },
      "execution_count": null,
      "outputs": []
    },
    {
      "cell_type": "code",
      "source": [
        "make_sandwich('Queso', 'Doble jamón', 'papas')"
      ],
      "metadata": {
        "id": "oQv0EqcC9cn5",
        "outputId": "c0073bc5-a8ee-45bb-b679-3e813d9158d5",
        "colab": {
          "base_uri": "https://localhost:8080/"
        }
      },
      "execution_count": null,
      "outputs": [
        {
          "output_type": "stream",
          "name": "stdout",
          "text": [
            "\n",
            "La pizza contiene los siguientes toppings:\n",
            "- Queso\n",
            "- Doble jamón\n",
            "- papas\n"
          ]
        }
      ]
    },
    {
      "cell_type": "markdown",
      "source": [
        "---\n",
        "\n",
        "<b> Ejercicio 2</b>\n",
        "\n",
        "Comience con una copia de **user_profile** de ***Uso de argumentos de palabras clave arbitrarias***. Cree un perfil de usted mismo llamando a **build_profile()**, usando su nombre y apellido y otros tres pares clave-valor que lo describan."
      ],
      "metadata": {
        "id": "NXvPqgVZQcx9"
      }
    },
    {
      "cell_type": "markdown",
      "source": [
        "---\n",
        "\n",
        "<b> Ejercicio 3</b>\n",
        "\n",
        "Escribe una función que almacene información sobre un automóvil en un diccionario. La función siempre debe recibir un fabricante y un nombre de modelo. Entonces debería aceptar un número arbitrario de argumentos de palabras clave. Llame a la función con la información requerida y otros dos pares de nombre y valor, como un color o una función opcional. Su función debería funcionar para una llamada como esta:\n",
        "\n",
        "coche = **make_car**('subaru', 'outback', color='blue', tow_package=True)\n",
        "\n",
        "Imprima el diccionario que se devuelve para asegurarse de que toda la información se almacenó correctamente.\n",
        "\n",
        "---"
      ],
      "metadata": {
        "id": "gpj7y6NYQjLq"
      }
    },
    {
      "cell_type": "markdown",
      "source": [
        "# 7. Almacenamiento de funciones en módulos"
      ],
      "metadata": {
        "id": "Ut0OnphvWeOw"
      }
    },
    {
      "cell_type": "markdown",
      "source": [
        "### Importar funciones específicas"
      ],
      "metadata": {
        "id": "qML64F41WRTX"
      }
    },
    {
      "cell_type": "code",
      "source": [
        "from sandwich import make_sandwich"
      ],
      "metadata": {
        "id": "oLt942aV-KiI"
      },
      "execution_count": null,
      "outputs": []
    },
    {
      "cell_type": "code",
      "source": [
        "make_sandwich('Queso', 'Doble jamón', 'papas')"
      ],
      "metadata": {
        "id": "C5oRUNh6-UUA",
        "outputId": "38610cfd-024f-49af-a988-1c724eafcc3b",
        "colab": {
          "base_uri": "https://localhost:8080/"
        }
      },
      "execution_count": null,
      "outputs": [
        {
          "output_type": "stream",
          "name": "stdout",
          "text": [
            "\n",
            "La pizza contiene los siguientes toppings:\n",
            "- Queso\n",
            "- Doble jamón\n",
            "- papas\n"
          ]
        }
      ]
    },
    {
      "cell_type": "code",
      "source": [
        "from pizza import make_pizza"
      ],
      "metadata": {
        "id": "cA4XkhylQYhn"
      },
      "execution_count": null,
      "outputs": []
    },
    {
      "cell_type": "code",
      "source": [
        "make_pizza(16, 'pepperoni')\n",
        "make_pizza(12, 'mushrooms', 'green peppers', 'extra cheese')"
      ],
      "metadata": {
        "id": "eesDvKLZVehZ",
        "outputId": "06d86cee-817a-4f48-b4d0-a552e7cddb6a",
        "colab": {
          "base_uri": "https://localhost:8080/"
        }
      },
      "execution_count": null,
      "outputs": [
        {
          "output_type": "stream",
          "name": "stdout",
          "text": [
            "\n",
            "Making a 16-inch pizza with the following toppings:\n",
            "- pepperoni\n",
            "\n",
            "Making a 12-inch pizza with the following toppings:\n",
            "- mushrooms\n",
            "- green peppers\n",
            "- extra cheese\n"
          ]
        }
      ]
    },
    {
      "cell_type": "markdown",
      "source": [
        "### Uso de as para dar un alias a una función"
      ],
      "metadata": {
        "id": "c4ojH2gyWAYW"
      }
    },
    {
      "cell_type": "code",
      "source": [
        "from pizza import make_pizza as mp\n",
        "\n",
        "mp(16, 'pepperoni')\n",
        "mp(12, 'mushrooms', 'green peppers', 'extra cheese')"
      ],
      "metadata": {
        "id": "h6WyN6L9VliG",
        "outputId": "99dc3380-3b31-44ef-cf07-c585d84234d8",
        "colab": {
          "base_uri": "https://localhost:8080/"
        }
      },
      "execution_count": null,
      "outputs": [
        {
          "output_type": "stream",
          "name": "stdout",
          "text": [
            "\n",
            "Making a 16-inch pizza with the following toppings:\n",
            "- pepperoni\n",
            "\n",
            "Making a 12-inch pizza with the following toppings:\n",
            "- mushrooms\n",
            "- green peppers\n",
            "- extra cheese\n"
          ]
        }
      ]
    },
    {
      "cell_type": "markdown",
      "source": [
        "### Uso de as para dar un alias a un módulo"
      ],
      "metadata": {
        "id": "vYeRmZSCVxE8"
      }
    },
    {
      "cell_type": "code",
      "source": [
        "import pizza as p\n",
        "\n",
        "p.make_pizza(16, 'pepperoni')\n",
        "p.make_pizza(12, 'mushrooms', 'green peppers', 'extra cheese')"
      ],
      "metadata": {
        "id": "ErMJcae6VrqE",
        "outputId": "33d8247f-ec82-4e1b-b7bf-cef3fdcc3837",
        "colab": {
          "base_uri": "https://localhost:8080/"
        }
      },
      "execution_count": null,
      "outputs": [
        {
          "output_type": "stream",
          "name": "stdout",
          "text": [
            "\n",
            "Making a 16-inch pizza with the following toppings:\n",
            "- pepperoni\n",
            "\n",
            "Making a 12-inch pizza with the following toppings:\n",
            "- mushrooms\n",
            "- green peppers\n",
            "- extra cheese\n"
          ]
        }
      ]
    },
    {
      "cell_type": "markdown",
      "source": [
        "# 8. Introducción a Clases"
      ],
      "metadata": {
        "id": "zl5-pV1XfXi1"
      }
    },
    {
      "cell_type": "markdown",
      "source": [
        "Una función que es parte de una clase es un método. Todo lo que aprendió sobre las funciones también se aplica a los métodos; la única diferencia práctica por ahora es la forma en que llamaremos a los métodos."
      ],
      "metadata": {
        "id": "Zm1Zg6mGd-GW"
      }
    },
    {
      "cell_type": "markdown",
      "source": [
        "**El método Init**\n",
        "\n",
        "El método __init__() es un método especial que Python ejecuta automáticamente cada vez que creamos una nueva instancia basada en la clase Dog. Este método tiene dos guiones bajos iniciales y dos guiones bajos finales, una convención que ayuda a evitar que los nombres de métodos predeterminados de Python entren en conflicto con los nombres de sus métodos. Asegúrese de usar dos guiones bajos a cada lado de __init__(). Si usa solo uno en cada lado, el método no se llamará automáticamente cuando use su clase, lo que puede generar errores que son difíciles de identificar."
      ],
      "metadata": {
        "id": "7N1Jxb6ceSRx"
      }
    },
    {
      "cell_type": "code",
      "source": [
        "class Dog:\n",
        "    \"\"\"A simple attempt to model a dog.\"\"\"\n",
        "    def __init__(self, name, age):\n",
        "        \"\"\"Initialize name and age attributes.\"\"\"\n",
        "        self.name = name\n",
        "        self.age = age\n",
        "\n",
        "    def sit(self):\n",
        "        \"\"\"Simulate a dog sitting in response to a command.\"\"\"\n",
        "        print(f\"{self.name} esta sentado.\")\n",
        "\n",
        "    def roll_over(self):\n",
        "        \"\"\"Simulate rolling over in response to a command.\"\"\"\n",
        "        print(f\"{self.name} esta rodando!\")\n"
      ],
      "metadata": {
        "id": "flog3R7bdvZn"
      },
      "execution_count": null,
      "outputs": []
    },
    {
      "cell_type": "code",
      "source": [
        "my_dog = Dog('Willie', 6)"
      ],
      "metadata": {
        "id": "ekZkhZeud1HN"
      },
      "execution_count": null,
      "outputs": []
    },
    {
      "cell_type": "code",
      "source": [
        "print(f\"El nombre de mi perro es {my_dog.name}.\")"
      ],
      "metadata": {
        "id": "Vi5yplZPe61f",
        "outputId": "66208e36-7b06-41a8-c821-10f699e720b6",
        "colab": {
          "base_uri": "https://localhost:8080/"
        }
      },
      "execution_count": null,
      "outputs": [
        {
          "output_type": "stream",
          "name": "stdout",
          "text": [
            "El nombre de mi perro es Willie.\n"
          ]
        }
      ]
    },
    {
      "cell_type": "code",
      "source": [
        "print(f\"Mi perro tiene {my_dog.age} años.\")"
      ],
      "metadata": {
        "id": "Uaf2In0sfBfO",
        "outputId": "b84849dc-6287-4b84-ea0a-02fbb3fd2925",
        "colab": {
          "base_uri": "https://localhost:8080/"
        }
      },
      "execution_count": null,
      "outputs": [
        {
          "output_type": "stream",
          "name": "stdout",
          "text": [
            "Mi perro tiene 6 años.\n"
          ]
        }
      ]
    },
    {
      "cell_type": "markdown",
      "source": [
        "### Llamando métodos de la clase"
      ],
      "metadata": {
        "id": "EpkCSrR6fqEh"
      }
    },
    {
      "cell_type": "code",
      "source": [
        "my_dog.sit()"
      ],
      "metadata": {
        "id": "bcqIi7zPfmVh",
        "outputId": "94a931d9-ce93-4002-f526-69b325159c64",
        "colab": {
          "base_uri": "https://localhost:8080/"
        }
      },
      "execution_count": null,
      "outputs": [
        {
          "output_type": "stream",
          "name": "stdout",
          "text": [
            "Willie esta sentado.\n"
          ]
        }
      ]
    },
    {
      "cell_type": "code",
      "source": [
        "my_dog.roll_over()"
      ],
      "metadata": {
        "id": "RhFLCn3Eftjz",
        "outputId": "aa376d5a-88d8-4fbe-f35b-8c897ed96a45",
        "colab": {
          "base_uri": "https://localhost:8080/"
        }
      },
      "execution_count": null,
      "outputs": [
        {
          "output_type": "stream",
          "name": "stdout",
          "text": [
            "Willie esta rodando!\n"
          ]
        }
      ]
    },
    {
      "cell_type": "markdown",
      "source": [
        "### Creando múltiples instancias"
      ],
      "metadata": {
        "id": "yqpTqtBrf5pF"
      }
    },
    {
      "cell_type": "code",
      "source": [
        "my_dog = Dog('Willie', 6)\n",
        "your_dog = Dog('Lucy', 3)\n"
      ],
      "metadata": {
        "id": "MsHtLxOrf-nB"
      },
      "execution_count": null,
      "outputs": []
    },
    {
      "cell_type": "code",
      "source": [
        "print(f\"El nombre de mi perro es {my_dog.name}.\")\n",
        "print(f\"Mi perro tiene {my_dog.age} años.\")\n",
        "my_dog.sit()\n"
      ],
      "metadata": {
        "colab": {
          "base_uri": "https://localhost:8080/"
        },
        "id": "ia8YHqsWf_T0",
        "outputId": "9447b01a-dc96-4274-8258-290dc9800ab8"
      },
      "execution_count": null,
      "outputs": [
        {
          "output_type": "stream",
          "name": "stdout",
          "text": [
            "El nombre de mi perro es Willie.\n",
            "Mi perro tiene 6 años.\n",
            "Willie esta sentado.\n"
          ]
        }
      ]
    },
    {
      "cell_type": "code",
      "source": [
        "print(f\"\\nEl nombre de tu perro es {your_dog.name}.\")\n",
        "print(f\"Tu perro tiene {your_dog.age} años.\")\n",
        "your_dog.sit()"
      ],
      "metadata": {
        "id": "woRDon1-gBV0",
        "outputId": "aaffb299-ba2e-42c9-d2f0-648880ea560e",
        "colab": {
          "base_uri": "https://localhost:8080/"
        }
      },
      "execution_count": null,
      "outputs": [
        {
          "output_type": "stream",
          "name": "stdout",
          "text": [
            "\n",
            "El nombre de tu perro es Lucy.\n",
            "Tu perro tiene 3 años.\n",
            "Lucy esta sentado.\n"
          ]
        }
      ]
    },
    {
      "cell_type": "markdown",
      "source": [
        "---\n",
        "\n",
        "<b> Ejercicio 1</b>\n",
        "\n",
        "Haz una clase llamada Restaurante. El método __init__() para Restaurante debe almacenar dos atributos: un nombre_restaurante y un tipo_cocina. Cree un método llamado describe_restaurant() que imprima estos dos datos y un método llamado open_restaurant() que imprima un mensaje que indique que el restaurante está abierto.\n",
        "\n",
        "Cree una instancia llamada restaurante de su clase. Imprima los dos atributos individualmente y luego llame a ambos métodos."
      ],
      "metadata": {
        "id": "kp8q0QVDgqkZ"
      }
    },
    {
      "cell_type": "code",
      "source": [
        "class Restaurante:\n",
        "    \"\"\"A simple attempt to model a restaurante.\"\"\"\n",
        "    def __init__(self, nombre_restaurante, tipo_cocina):\n",
        "        \"\"\"Initialize name and age attributes.\"\"\"\n",
        "        self.nombre_restaurante = nombre_restaurante\n",
        "        self.tipo_cocina = tipo_cocina\n",
        "\n",
        "    def describe_restaurant(self):\n",
        "        \"\"\"\"\"\"\n",
        "        print(f'{self.nombre_restaurante}, {self.tipo_cocina}')\n",
        "\n",
        "    def open_restaurant(self):\n",
        "        \"\"\"\"\"\"\n",
        "        print('El restaurante esta abierto')\n",
        "\n",
        "        "
      ],
      "metadata": {
        "id": "g7gst4DZAlSO"
      },
      "execution_count": null,
      "outputs": []
    },
    {
      "cell_type": "code",
      "source": [
        "my_rest = Restaurante('Gaston Acurio', 'Criolla')"
      ],
      "metadata": {
        "id": "kkVZF-lTBS-S"
      },
      "execution_count": null,
      "outputs": []
    },
    {
      "cell_type": "code",
      "source": [
        "my_rest.nombre_restaurante"
      ],
      "metadata": {
        "id": "Nb2A0lTlBd8O",
        "outputId": "8328d88b-d034-49ed-8462-be3167d91a12",
        "colab": {
          "base_uri": "https://localhost:8080/",
          "height": 35
        }
      },
      "execution_count": null,
      "outputs": [
        {
          "output_type": "execute_result",
          "data": {
            "text/plain": [
              "'Gaston Acurio'"
            ],
            "application/vnd.google.colaboratory.intrinsic+json": {
              "type": "string"
            }
          },
          "metadata": {},
          "execution_count": 145
        }
      ]
    },
    {
      "cell_type": "code",
      "source": [
        "my_rest.describe_restaurant()"
      ],
      "metadata": {
        "id": "Xmx3--qlBhrG",
        "outputId": "0a1b79b6-4902-4203-b9e3-6a8bcd1cd562",
        "colab": {
          "base_uri": "https://localhost:8080/"
        }
      },
      "execution_count": null,
      "outputs": [
        {
          "output_type": "stream",
          "name": "stdout",
          "text": [
            "Gaston Acurio, Criolla\n"
          ]
        }
      ]
    },
    {
      "cell_type": "code",
      "source": [
        "my_rest.open_restaurant()"
      ],
      "metadata": {
        "id": "bpm8vBr2B5mT",
        "outputId": "ca2c28d9-556a-43f2-a021-5e0587632ae6",
        "colab": {
          "base_uri": "https://localhost:8080/"
        }
      },
      "execution_count": null,
      "outputs": [
        {
          "output_type": "stream",
          "name": "stdout",
          "text": [
            "El restaurante esta abierto\n"
          ]
        }
      ]
    },
    {
      "cell_type": "markdown",
      "source": [
        "---\n",
        "\n",
        "<b> Ejercicio 2</b>\n",
        "\n",
        "Comience con su clase del Ejercicio anterior. Cree tres instancias diferentes de la clase y llame a **describe_restaurant**() para cada instancia."
      ],
      "metadata": {
        "id": "uD1V4MnYgxO2"
      }
    },
    {
      "cell_type": "code",
      "source": [
        "my_rest1 = Restaurante('Gaston Acurio', 'Criolla')\n",
        "my_rest2 = Restaurante('Señor Limon', 'Marina')\n",
        "my_rest3 = Restaurante('Charrua', 'Carnes')"
      ],
      "metadata": {
        "id": "_OeMpa-OCCIm"
      },
      "execution_count": null,
      "outputs": []
    },
    {
      "cell_type": "code",
      "source": [
        "my_rest1.describe_restaurant() "
      ],
      "metadata": {
        "id": "cbxcp9m8CNNF",
        "outputId": "35a39fb3-f010-4592-c58c-1625f5dccc17",
        "colab": {
          "base_uri": "https://localhost:8080/"
        }
      },
      "execution_count": null,
      "outputs": [
        {
          "output_type": "stream",
          "name": "stdout",
          "text": [
            "Gaston Acurio, Criolla\n"
          ]
        }
      ]
    },
    {
      "cell_type": "code",
      "source": [
        "my_rest2.describe_restaurant() "
      ],
      "metadata": {
        "id": "qiLUedoKCRGo",
        "outputId": "0d4591bf-3daf-448c-a1e8-503ed6538f1c",
        "colab": {
          "base_uri": "https://localhost:8080/"
        }
      },
      "execution_count": null,
      "outputs": [
        {
          "output_type": "stream",
          "name": "stdout",
          "text": [
            "Señor Limon, Marina\n"
          ]
        }
      ]
    },
    {
      "cell_type": "markdown",
      "source": [
        "---\n",
        "\n",
        "<b> Ejercicio 3</b>\n",
        "\n",
        "Haz una clase llamada Usuario. Cree dos atributos llamados **first_name** y **last_name**, y luego cree varios otros atributos que normalmente se almacenan en un perfil de usuario. Cree un método llamado **describe_user**() que imprima un resumen de la información del usuario. Cree otro método llamado **greeting_user**() que imprima un saludo personalizado para el usuario.\n",
        "\n",
        "Cree varias instancias que representen a diferentes usuarios y llame a ambos métodos para cada usuario.\n",
        "\n",
        "---"
      ],
      "metadata": {
        "id": "PlqVFUueg2QI"
      }
    },
    {
      "cell_type": "markdown",
      "source": [
        "---\n",
        "\n",
        "# Gracias por completar este laboratorio!\n",
        "\n",
        "---\n"
      ],
      "metadata": {
        "id": "MXXM4w69aIll"
      }
    }
  ]
}