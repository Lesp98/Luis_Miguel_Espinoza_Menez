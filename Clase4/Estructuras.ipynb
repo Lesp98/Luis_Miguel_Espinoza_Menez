{
  "nbformat": 4,
  "nbformat_minor": 0,
  "metadata": {
    "colab": {
      "name": "Untitled3.ipynb",
      "provenance": [],
      "include_colab_link": true
    },
    "kernelspec": {
      "name": "python3",
      "display_name": "Python 3"
    },
    "language_info": {
      "name": "python"
    }
  },
  "cells": [
    {
      "cell_type": "markdown",
      "metadata": {
        "id": "view-in-github",
        "colab_type": "text"
      },
      "source": [
        "<a href=\"https://colab.research.google.com/github/Lesp98/Luis_Miguel_Espinoza_Menez/blob/main/Clase4/Estructuras.ipynb\" target=\"_parent\"><img src=\"https://colab.research.google.com/assets/colab-badge.svg\" alt=\"Open In Colab\"/></a>"
      ]
    },
    {
      "cell_type": "markdown",
      "source": [
        "# **List Comprehensions**"
      ],
      "metadata": {
        "id": "xsB7NnCkYuVM"
      }
    },
    {
      "cell_type": "markdown",
      "source": [
        "**Ejercicio 1**\n",
        "\n",
        "use un bucle for para imprimir los números del 1 al 20, inclusive."
      ],
      "metadata": {
        "id": "GLHBnBY-Yyrg"
      }
    },
    {
      "cell_type": "code",
      "execution_count": null,
      "metadata": {
        "colab": {
          "base_uri": "https://localhost:8080/"
        },
        "id": "RjCFwnLyUUXR",
        "outputId": "a629bdbc-3c19-40ea-b642-5d8ef41d765b"
      },
      "outputs": [
        {
          "output_type": "stream",
          "name": "stdout",
          "text": [
            "1\n",
            "2\n",
            "3\n",
            "4\n",
            "5\n",
            "6\n",
            "7\n",
            "8\n",
            "9\n",
            "10\n",
            "11\n",
            "12\n",
            "13\n",
            "14\n",
            "15\n",
            "16\n",
            "17\n",
            "18\n",
            "19\n",
            "20\n"
          ]
        }
      ],
      "source": [
        "for value in range(1, 21):\n",
        "  print(value)"
      ]
    },
    {
      "cell_type": "markdown",
      "source": [
        "**Ejercicio 2**\n",
        "\n",
        "Haga una lista de los números del uno al millón y luego use un ciclo for para imprimir los números. (Si la salida tarda demasiado, deténgala presionando CTRL-C o cerrando la ventana de salida)."
      ],
      "metadata": {
        "id": "utX03HgvY3Gc"
      }
    },
    {
      "cell_type": "code",
      "source": [
        "one_million = range (1, 1000001)\n",
        "\n",
        "for value in one_million:\n",
        "  print(value)"
      ],
      "metadata": {
        "id": "AiUCMO70Zbx4"
      },
      "execution_count": null,
      "outputs": []
    },
    {
      "cell_type": "markdown",
      "source": [
        "**Ejercicio 3**\n",
        "\n",
        "Haga una lista de los números del uno al millón y luego use min() y max() para asegurarse de que su lista realmente comience en uno y termine en un millón. Además, use la función sum() para ver qué tan rápido Python puede agregar un millón de números."
      ],
      "metadata": {
        "id": "5n6EefiPY2wp"
      }
    },
    {
      "cell_type": "code",
      "source": [
        "one_million = range (1, 1000001)"
      ],
      "metadata": {
        "id": "M2rLeTJoZcC0"
      },
      "execution_count": null,
      "outputs": []
    },
    {
      "cell_type": "code",
      "source": [
        "min(one_million)"
      ],
      "metadata": {
        "colab": {
          "base_uri": "https://localhost:8080/"
        },
        "id": "kZoYN-emagMx",
        "outputId": "17bec6de-9c0d-4c51-bc4a-e11f28c8c48e"
      },
      "execution_count": null,
      "outputs": [
        {
          "output_type": "execute_result",
          "data": {
            "text/plain": [
              "1"
            ]
          },
          "metadata": {},
          "execution_count": 7
        }
      ]
    },
    {
      "cell_type": "code",
      "source": [
        "max(one_million)"
      ],
      "metadata": {
        "colab": {
          "base_uri": "https://localhost:8080/"
        },
        "id": "sVTcl1AZajm8",
        "outputId": "6616b049-ca22-4693-81ab-4e671c0acfe4"
      },
      "execution_count": null,
      "outputs": [
        {
          "output_type": "execute_result",
          "data": {
            "text/plain": [
              "1000000"
            ]
          },
          "metadata": {},
          "execution_count": 8
        }
      ]
    },
    {
      "cell_type": "code",
      "source": [
        "sum(one_million)"
      ],
      "metadata": {
        "colab": {
          "base_uri": "https://localhost:8080/"
        },
        "id": "H5T8CgDUamPB",
        "outputId": "c7c8ad59-e041-49ab-9b85-8254585039c9"
      },
      "execution_count": null,
      "outputs": [
        {
          "output_type": "execute_result",
          "data": {
            "text/plain": [
              "500000500000"
            ]
          },
          "metadata": {},
          "execution_count": 9
        }
      ]
    },
    {
      "cell_type": "markdown",
      "source": [
        "**Ejercicio 4**\n",
        "\n",
        "Use el tercer argumento de la función range() para hacer una lista de los números impares del 1 al 20. Use un bucle for para imprimir cada número."
      ],
      "metadata": {
        "id": "RatsT8BcY9P_"
      }
    },
    {
      "cell_type": "code",
      "source": [
        "impares = range(1, 20, 2)"
      ],
      "metadata": {
        "id": "0Fdqr-eYazdZ"
      },
      "execution_count": null,
      "outputs": []
    },
    {
      "cell_type": "code",
      "source": [
        "for impar in impares:\n",
        "  print(impar)"
      ],
      "metadata": {
        "colab": {
          "base_uri": "https://localhost:8080/"
        },
        "id": "9Zkc_1oeZcZK",
        "outputId": "68e834d5-c4e4-4745-e581-7ea6dc473f54"
      },
      "execution_count": null,
      "outputs": [
        {
          "output_type": "stream",
          "name": "stdout",
          "text": [
            "1\n",
            "3\n",
            "5\n",
            "7\n",
            "9\n",
            "11\n",
            "13\n",
            "15\n",
            "17\n",
            "19\n"
          ]
        }
      ]
    },
    {
      "cell_type": "markdown",
      "source": [
        "**Ejercicio 5**\n",
        "\n",
        "Haga una lista de los múltiplos de 3 de 3 a 30. Use un ciclo for para imprimir los números en su lista."
      ],
      "metadata": {
        "id": "KiIkzOUTY_zb"
      }
    },
    {
      "cell_type": "code",
      "source": [
        "mult_tres = []\n",
        "\n",
        "for value in range(1, 11):\n",
        "  mult_tres.append(value*3)\n",
        "\n",
        "print(mult_tres)"
      ],
      "metadata": {
        "colab": {
          "base_uri": "https://localhost:8080/"
        },
        "id": "1pEWNh2-Zcvp",
        "outputId": "d4350178-5218-4322-a1c9-09af3740dda8"
      },
      "execution_count": null,
      "outputs": [
        {
          "output_type": "stream",
          "name": "stdout",
          "text": [
            "[3, 6, 9, 12, 15, 18, 21, 24, 27, 30]\n"
          ]
        }
      ]
    },
    {
      "cell_type": "markdown",
      "source": [
        "**Ejercicio 6**\n",
        "\n",
        "Haga una lista de los primeros 10 cubos (es decir, el cubo de cada número entero del 1 al 10) y use un ciclo for para imprimir el valor de cada cubo."
      ],
      "metadata": {
        "id": "iWouckvkZERC"
      }
    },
    {
      "cell_type": "code",
      "source": [
        "cubos = []\n",
        "\n",
        "for value in range(1, 11):\n",
        "  cubos.append(value**3)\n",
        "\n",
        "print(cubos)"
      ],
      "metadata": {
        "colab": {
          "base_uri": "https://localhost:8080/"
        },
        "id": "TdTU_LesZdKm",
        "outputId": "8bb74913-8a74-4799-ee5a-18b2f7473ddd"
      },
      "execution_count": null,
      "outputs": [
        {
          "output_type": "stream",
          "name": "stdout",
          "text": [
            "[1, 8, 27, 64, 125, 216, 343, 512, 729, 1000]\n"
          ]
        }
      ]
    },
    {
      "cell_type": "markdown",
      "source": [
        "**Ejercicio 7**\n",
        "\n",
        "Use una lista de comprensión para generar una lista de los primeros 10 cubos."
      ],
      "metadata": {
        "id": "xgQZQpppZZBs"
      }
    },
    {
      "cell_type": "code",
      "source": [
        "[x**3 for x in range(1, 11)]"
      ],
      "metadata": {
        "colab": {
          "base_uri": "https://localhost:8080/"
        },
        "id": "D7BZ_hXcZdiD",
        "outputId": "bb55d296-cc2a-4244-bf4d-fcf1c68a1574"
      },
      "execution_count": null,
      "outputs": [
        {
          "output_type": "execute_result",
          "data": {
            "text/plain": [
              "[1, 8, 27, 64, 125, 216, 343, 512, 729, 1000]"
            ]
          },
          "metadata": {},
          "execution_count": 17
        }
      ]
    },
    {
      "cell_type": "markdown",
      "source": [
        "# **Trabajando con slices**"
      ],
      "metadata": {
        "id": "FxoLvziHj0Fg"
      }
    },
    {
      "cell_type": "markdown",
      "source": [
        "**Ejercicio 1**\n",
        "\n",
        "Utilizando alguna lista definida anteriormente:\n",
        "\n",
        "Imprima el mensaje **Los tres primeros elementos de la lista son:**. Luego use un slice para imprimir los primeros tres elementos de la lista de ese programa.\n",
        "\n",
        "Imprima el mensaje **Tres elementos de la mitad de la lista son:**. Use un slice para imprimir tres elementos del medio de la lista.\n",
        "\n",
        "Imprima el mensaje **Los últimos tres elementos de la lista son:**. Utilice un slice para imprimir los últimos tres elementos de la lista."
      ],
      "metadata": {
        "id": "g9eqQylbjsj6"
      }
    },
    {
      "cell_type": "code",
      "source": [
        "players = ['charles', 'martina', 'michael', 'florence', 'eli']"
      ],
      "metadata": {
        "id": "u76wkRiwj_Fk"
      },
      "execution_count": null,
      "outputs": []
    },
    {
      "cell_type": "code",
      "source": [
        "print('Los tres primeros elementos de la lista son: ')\n",
        "players[:3]"
      ],
      "metadata": {
        "colab": {
          "base_uri": "https://localhost:8080/"
        },
        "id": "DXE4J1EakMBI",
        "outputId": "4412fadc-1165-4f97-f8c2-0284fa0da196"
      },
      "execution_count": null,
      "outputs": [
        {
          "output_type": "stream",
          "name": "stdout",
          "text": [
            "Los tres primeros elementos de la lista son: \n"
          ]
        },
        {
          "output_type": "execute_result",
          "data": {
            "text/plain": [
              "['charles', 'martina', 'michael']"
            ]
          },
          "metadata": {},
          "execution_count": 2
        }
      ]
    },
    {
      "cell_type": "code",
      "source": [
        "print('Tres elementos de la mitad de la lista son: ')\n",
        "players[1:4]"
      ],
      "metadata": {
        "colab": {
          "base_uri": "https://localhost:8080/"
        },
        "id": "zjjj71yekdFO",
        "outputId": "a6259a95-9549-41d0-9d03-70db3a97f84b"
      },
      "execution_count": null,
      "outputs": [
        {
          "output_type": "stream",
          "name": "stdout",
          "text": [
            "Tres elementos de la mitad de la lista son: \n"
          ]
        },
        {
          "output_type": "execute_result",
          "data": {
            "text/plain": [
              "['martina', 'michael', 'florence']"
            ]
          },
          "metadata": {},
          "execution_count": 4
        }
      ]
    },
    {
      "cell_type": "code",
      "source": [
        "print('Los últimos tres elementos de la lista son: ')\n",
        "players[-3:]"
      ],
      "metadata": {
        "colab": {
          "base_uri": "https://localhost:8080/"
        },
        "id": "VVPuJ-Fzkkd5",
        "outputId": "70f7a476-58d7-44a3-cb41-c4eee1ea7f6e"
      },
      "execution_count": null,
      "outputs": [
        {
          "output_type": "stream",
          "name": "stdout",
          "text": [
            "Los últimos tres elementos de la lista son: \n"
          ]
        },
        {
          "output_type": "execute_result",
          "data": {
            "text/plain": [
              "['michael', 'florence', 'eli']"
            ]
          },
          "metadata": {},
          "execution_count": 5
        }
      ]
    },
    {
      "cell_type": "markdown",
      "source": [
        "**Ejercicio 2**\n",
        "\n",
        "Haga una copia de la lista de pizzas y llámela friend_pizzas. Luego, haz lo siguiente:\n",
        "\n",
        "Agregue una nueva pizza a la lista original.\n",
        "Agrega una pizza diferente a la lista friend_pizzas.\n",
        "Demuestra que tienes dos listas separadas. Imprima el mensaje Mis pizzas favoritas son: y luego use un bucle for para imprimir la primera lista. Imprima el mensaje Las pizzas favoritas de mi amigo son: y luego use un bucle for para imprimir la segunda lista. Asegúrese de que cada pizza nueva se almacene en la lista adecuada."
      ],
      "metadata": {
        "id": "n_ALqbwLjx3t"
      }
    },
    {
      "cell_type": "code",
      "source": [
        "pizzas = ['peperoni', 'americana', 'hawaiana', 'española']\n",
        "friend_pizzas = pizzas[:]"
      ],
      "metadata": {
        "id": "exlWsaFTj_UY"
      },
      "execution_count": null,
      "outputs": []
    },
    {
      "cell_type": "code",
      "source": [
        "pizzas.append('tres quesos')\n",
        "friend_pizzas.append('bbq')"
      ],
      "metadata": {
        "id": "yf6D41K6lCxz"
      },
      "execution_count": null,
      "outputs": []
    },
    {
      "cell_type": "code",
      "source": [
        "pizzas"
      ],
      "metadata": {
        "colab": {
          "base_uri": "https://localhost:8080/"
        },
        "id": "fRdW-fGVlQzH",
        "outputId": "2598a5c3-05e9-4439-9985-427eb7d86221"
      },
      "execution_count": null,
      "outputs": [
        {
          "output_type": "execute_result",
          "data": {
            "text/plain": [
              "['peperoni', 'americana', 'hawaiana', 'española', 'tres quesos']"
            ]
          },
          "metadata": {},
          "execution_count": 12
        }
      ]
    },
    {
      "cell_type": "code",
      "source": [
        "friend_pizzas"
      ],
      "metadata": {
        "colab": {
          "base_uri": "https://localhost:8080/"
        },
        "id": "1G8KtWxwlfcz",
        "outputId": "867350d0-193b-4c4e-bf91-28cc78cb24c4"
      },
      "execution_count": null,
      "outputs": [
        {
          "output_type": "execute_result",
          "data": {
            "text/plain": [
              "['peperoni', 'americana', 'hawaiana', 'española', 'bbq']"
            ]
          },
          "metadata": {},
          "execution_count": 13
        }
      ]
    },
    {
      "cell_type": "code",
      "source": [
        "print('Mis pizzas favoritas son: ')\n",
        "for pizza in pizzas:\n",
        "  print(pizza)"
      ],
      "metadata": {
        "colab": {
          "base_uri": "https://localhost:8080/"
        },
        "id": "IzKVetnZliAZ",
        "outputId": "0d499494-13d7-4692-e3ad-6366c8e67e75"
      },
      "execution_count": null,
      "outputs": [
        {
          "output_type": "stream",
          "name": "stdout",
          "text": [
            "Mis pizzas favoritas son: \n",
            "peperoni\n",
            "americana\n",
            "hawaiana\n",
            "española\n",
            "tres quesos\n"
          ]
        }
      ]
    },
    {
      "cell_type": "code",
      "source": [
        "print('Las pizzas favoritas de mi amigo son: ')\n",
        "for pizza in friend_pizzas:\n",
        "  print(pizza)"
      ],
      "metadata": {
        "colab": {
          "base_uri": "https://localhost:8080/"
        },
        "id": "hocY5uEPltS2",
        "outputId": "55b95119-6cca-4836-92be-855ae637eb0c"
      },
      "execution_count": null,
      "outputs": [
        {
          "output_type": "stream",
          "name": "stdout",
          "text": [
            "Las pizzas favoritas de mi amigo son: \n",
            "peperoni\n",
            "americana\n",
            "hawaiana\n",
            "española\n",
            "bbq\n"
          ]
        }
      ]
    },
    {
      "cell_type": "markdown",
      "source": [
        "# **Tuplas**"
      ],
      "metadata": {
        "id": "u5ew6uUXvmNv"
      }
    },
    {
      "cell_type": "markdown",
      "source": [
        "**Ejercicio 1**\n",
        "\n",
        "Un restaurante estilo buffet ofrece solo cinco alimentos básicos. Piense en cinco alimentos simples y guárdelos en una tupla.\n",
        "\n",
        "Use un bucle for para imprimir cada comida que ofrece el restaurante. Intente modificar uno de los elementos y asegúrese de que Python rechace el cambio.\n",
        "El restaurante cambia su menú, reemplazando dos de los artículos con comidas diferentes. Agregue una línea que reescriba la tupla y luego use un ciclo for para imprimir cada uno de los elementos en el menú revisado."
      ],
      "metadata": {
        "id": "C-3Y8A_3vmDu"
      }
    },
    {
      "cell_type": "code",
      "source": [
        "alimentos = ('Seco', 'Ceviche', 'Causa', 'Tequeños', 'Chaufa')"
      ],
      "metadata": {
        "id": "PZw_hRdRvqX5"
      },
      "execution_count": null,
      "outputs": []
    },
    {
      "cell_type": "code",
      "source": [
        "for alimento in alimentos:\n",
        "  print(alimento)"
      ],
      "metadata": {
        "colab": {
          "base_uri": "https://localhost:8080/"
        },
        "id": "8UgxVlUWwK5J",
        "outputId": "327ecebd-2d7a-4cde-fa18-ca12c7dd6705"
      },
      "execution_count": null,
      "outputs": [
        {
          "output_type": "stream",
          "name": "stdout",
          "text": [
            "Seco\n",
            "Ceviche\n",
            "Causa\n",
            "Tequeños\n",
            "Chaufa\n"
          ]
        }
      ]
    },
    {
      "cell_type": "code",
      "source": [
        "alimentos[0] = 'Estofado'"
      ],
      "metadata": {
        "colab": {
          "base_uri": "https://localhost:8080/",
          "height": 165
        },
        "id": "tSmO1vKuwTVK",
        "outputId": "47ca7bad-245d-4efd-fbfd-65379a29a537"
      },
      "execution_count": null,
      "outputs": [
        {
          "output_type": "error",
          "ename": "TypeError",
          "evalue": "ignored",
          "traceback": [
            "\u001b[0;31m---------------------------------------------------------------------------\u001b[0m",
            "\u001b[0;31mTypeError\u001b[0m                                 Traceback (most recent call last)",
            "\u001b[0;32m<ipython-input-19-b902b3e08423>\u001b[0m in \u001b[0;36m<module>\u001b[0;34m()\u001b[0m\n\u001b[0;32m----> 1\u001b[0;31m \u001b[0malimentos\u001b[0m\u001b[0;34m[\u001b[0m\u001b[0;36m0\u001b[0m\u001b[0;34m]\u001b[0m \u001b[0;34m=\u001b[0m \u001b[0;34m'Estofado'\u001b[0m\u001b[0;34m\u001b[0m\u001b[0;34m\u001b[0m\u001b[0m\n\u001b[0m",
            "\u001b[0;31mTypeError\u001b[0m: 'tuple' object does not support item assignment"
          ]
        }
      ]
    },
    {
      "cell_type": "code",
      "source": [
        "alimentos = ('Estofado', 'Escabeche', 'Causa', 'Tequeños', 'Chaufa')"
      ],
      "metadata": {
        "id": "CU8IlU4Jwckx"
      },
      "execution_count": null,
      "outputs": []
    },
    {
      "cell_type": "code",
      "source": [
        "for alimento in alimentos:\n",
        "  print(alimento)"
      ],
      "metadata": {
        "colab": {
          "base_uri": "https://localhost:8080/"
        },
        "id": "aCXfAIiUwk25",
        "outputId": "7a98cffd-2485-4b2b-bbe9-1ba5a94830c7"
      },
      "execution_count": null,
      "outputs": [
        {
          "output_type": "stream",
          "name": "stdout",
          "text": [
            "Estofado\n",
            "Escabeche\n",
            "Causa\n",
            "Tequeños\n",
            "Chaufa\n"
          ]
        }
      ]
    },
    {
      "cell_type": "markdown",
      "source": [
        "# **Diccionarios**"
      ],
      "metadata": {
        "id": "W2TBqGlR0rrO"
      }
    },
    {
      "cell_type": "markdown",
      "source": [
        "**Ejercicio 1**\n",
        "\n",
        "Usa un diccionario para almacenar información sobre una persona que conoces. Almacene su nombre, apellido, edad y la ciudad en la que vive. Debe tener claves como nombre, apellido, edad y ciudad. Imprima cada parte de información almacenada en su diccionario."
      ],
      "metadata": {
        "id": "UK_TDCia0tBZ"
      }
    },
    {
      "cell_type": "code",
      "source": [
        "persona_1 = {'Nombre': 'Luis',\n",
        "             'Apellido': 'Espinoza', \n",
        "             'Edad': 24, \n",
        "             'Ciudad': 'Lima'}"
      ],
      "metadata": {
        "id": "4RXEDG_K0qvE"
      },
      "execution_count": null,
      "outputs": []
    },
    {
      "cell_type": "code",
      "source": [
        "persona_1"
      ],
      "metadata": {
        "colab": {
          "base_uri": "https://localhost:8080/"
        },
        "id": "tYbKu3m81_XJ",
        "outputId": "87f5f549-77e3-40b2-c4b1-434d2d5804a9"
      },
      "execution_count": null,
      "outputs": [
        {
          "output_type": "execute_result",
          "data": {
            "text/plain": [
              "{'Apellido': 'Espinoza', 'Ciudad': 'Lima', 'Edad': 24, 'Nombre': 'Luis'}"
            ]
          },
          "metadata": {},
          "execution_count": 26
        }
      ]
    },
    {
      "cell_type": "markdown",
      "source": [
        "**Ejercicio 2**\n",
        "\n",
        "Use un diccionario para almacenar los números favoritos de las personas. Piensa en cinco nombres y utilízalos como llaves en tu diccionario. Piense en un número favorito para cada persona y guárdelo como un valor en su diccionario. Escriba el nombre de cada persona y su número favorito."
      ],
      "metadata": {
        "id": "U2MIOMTr02fX"
      }
    },
    {
      "cell_type": "code",
      "source": [
        "num_fav = {'Luis': 2, \n",
        "           'Daniela': 4,\n",
        "           'Miguel': 3,\n",
        "           'Esteban': 8,\n",
        "           'Gabriel': 7}"
      ],
      "metadata": {
        "id": "3r74QWNe07x4"
      },
      "execution_count": null,
      "outputs": []
    },
    {
      "cell_type": "code",
      "source": [
        "a = 'Luis'\n",
        "print(f'El número favorito de {a} es el {num_fav[a]}')\n",
        "\n",
        "a = 'Daniela'\n",
        "print(f'El número favorito de {a} es el {num_fav[a]}')\n",
        "\n",
        "a = 'Miguel'\n",
        "print(f'El número favorito de {a} es el {num_fav[a]}')\n",
        "\n",
        "a = 'Esteban'\n",
        "print(f'El número favorito de {a} es el {num_fav[a]}')\n",
        "\n",
        "a = 'Gabriel'\n",
        "print(f'El número favorito de {a} es el {num_fav[a]}')"
      ],
      "metadata": {
        "colab": {
          "base_uri": "https://localhost:8080/"
        },
        "id": "ZOjxm4j82Vsu",
        "outputId": "e57351e4-8713-4b01-b0bb-1e8683015018"
      },
      "execution_count": null,
      "outputs": [
        {
          "output_type": "stream",
          "name": "stdout",
          "text": [
            "El número favorito de Luis es el 2\n",
            "El número favorito de Daniela es el 4\n",
            "El número favorito de Miguel es el 3\n",
            "El número favorito de Esteban es el 8\n",
            "El número favorito de Gabriel es el 7\n"
          ]
        }
      ]
    },
    {
      "cell_type": "markdown",
      "source": [
        "**Ejercicio 3**\n",
        "\n",
        "Piense en cinco palabras de programación que haya aprendido. Utilice estas palabras como llaves en su glosario y almacene sus significados como valores.\n",
        "\n",
        "Imprima cada palabra y su significado como una salida con un formato ordenado. Puede imprimir la palabra seguida de dos puntos y luego su significado, o imprimir la palabra en una línea y luego imprimir su significado con sangría en una segunda línea. Utilice el carácter de nueva línea (\\n) para insertar una línea en blanco entre cada par de palabra y significado en su salida."
      ],
      "metadata": {
        "id": "Vh0qykCc05ZU"
      }
    },
    {
      "cell_type": "code",
      "source": [
        "l_prog = {'C': 'primer',\n",
        "          'C++': 'segundo',\n",
        "          'VBA': 'tercer',\n",
        "          'Python': 'cuarto',\n",
        "          'R': 'quinto'}"
      ],
      "metadata": {
        "id": "5tPgUG9i08Nx"
      },
      "execution_count": null,
      "outputs": []
    },
    {
      "cell_type": "code",
      "source": [
        "a = 'C'\n",
        "print(f'El {l_prog[a]} lenguaje que aprendí fue {a}\\n')\n",
        "\n",
        "a = 'C++'\n",
        "print(f'El {l_prog[a]} lenguaje que aprendí fue {a}\\n')\n",
        "\n",
        "a = 'VBA'\n",
        "print(f'El {l_prog[a]} lenguaje que aprendí fue {a}\\n')\n",
        "\n",
        "a = 'Python'\n",
        "print(f'El {l_prog[a]} lenguaje que aprendí fue {a}\\n')\n",
        "\n",
        "a = 'R'\n",
        "print(f'El {l_prog[a]} lenguaje que aprenderé será {a}')"
      ],
      "metadata": {
        "colab": {
          "base_uri": "https://localhost:8080/"
        },
        "id": "n0iIH40f4Tk6",
        "outputId": "a7925a6f-80d4-4552-e26b-7d99404d2550"
      },
      "execution_count": null,
      "outputs": [
        {
          "output_type": "stream",
          "name": "stdout",
          "text": [
            "El primer lenguaje que aprendí fue C\n",
            "\n",
            "El segundo lenguaje que aprendí fue C++\n",
            "\n",
            "El tercer lenguaje que aprendí fue VBA\n",
            "\n",
            "El cuarto lenguaje que aprendí fue Python\n",
            "\n",
            "El quinto lenguaje que aprenderé será R\n"
          ]
        }
      ]
    },
    {
      "cell_type": "markdown",
      "source": [
        "# **Loops con diccionarios**"
      ],
      "metadata": {
        "id": "jvFg4QR559L8"
      }
    },
    {
      "cell_type": "markdown",
      "source": [
        "**Ejercicio 1**\n",
        "\n",
        "Haga un diccionario que contenga tres ríos principales y el país por el que pasa cada río. Un par clave-valor podría ser 'nilo': 'egipto'.\n",
        "\n",
        "*   Use un bucle para imprimir una oración sobre cada río, como El Nilo atraviesa Egipto.\n",
        "*   Utilice un bucle para imprimir el nombre de cada río incluido en el diccionario.\n",
        "*   Use un bucle para imprimir el nombre de cada país incluido en el diccionario."
      ],
      "metadata": {
        "id": "CeWvnmCD5-8a"
      }
    },
    {
      "cell_type": "code",
      "source": [
        "rio_pais = {'Nilo': 'Egipto', \n",
        "             'Amazonas': 'Brasil', \n",
        "             'Yang Tse Kiang': 'China'}"
      ],
      "metadata": {
        "id": "g9HrtquP5527"
      },
      "execution_count": null,
      "outputs": []
    },
    {
      "cell_type": "code",
      "source": [
        "for rio, pais in rio_pais.items():\n",
        "  print(f'El {rio} atraviesa {pais}')"
      ],
      "metadata": {
        "id": "cBrZQGab6to1",
        "outputId": "bfe2c015-f607-454c-815f-8fe1c3cf31ab",
        "colab": {
          "base_uri": "https://localhost:8080/"
        }
      },
      "execution_count": null,
      "outputs": [
        {
          "output_type": "stream",
          "name": "stdout",
          "text": [
            "El Nilo atraviesa Egipto\n",
            "El Amazonas atraviesa Brasil\n",
            "El Yang Tse Kiang atraviesa China\n"
          ]
        }
      ]
    },
    {
      "cell_type": "code",
      "source": [
        "for rio, pais in rio_pais.items():\n",
        "  print(rio)"
      ],
      "metadata": {
        "id": "2QsAQq1f7na1",
        "outputId": "aab30e37-8bce-492f-adf8-b274b9da3ecc",
        "colab": {
          "base_uri": "https://localhost:8080/"
        }
      },
      "execution_count": null,
      "outputs": [
        {
          "output_type": "stream",
          "name": "stdout",
          "text": [
            "Nilo\n",
            "Amazonas\n",
            "Yang Tse Kiang\n"
          ]
        }
      ]
    },
    {
      "cell_type": "code",
      "source": [
        "for rio, pais in rio_pais.items():\n",
        "  print(pais)"
      ],
      "metadata": {
        "id": "7W2M9s7A7xh-",
        "outputId": "a293c904-3321-43a7-d7ab-d402782263a2",
        "colab": {
          "base_uri": "https://localhost:8080/"
        }
      },
      "execution_count": null,
      "outputs": [
        {
          "output_type": "stream",
          "name": "stdout",
          "text": [
            "Egipto\n",
            "Brasil\n",
            "China\n"
          ]
        }
      ]
    },
    {
      "cell_type": "markdown",
      "source": [
        "**Ejercicio 2**\n",
        "\n",
        "Haz una lista de las personas que deberían participar en la encuesta de idiomas favoritos. Incluye algunos nombres que ya estén en el diccionario y otros que no. Recorra la lista de personas que deberían realizar la encuesta. Si ya han realizado la encuesta, imprima un mensaje agradeciéndoles por responder. Si aún no han realizado la encuesta, imprima un mensaje invitándoles a realizar la encuesta."
      ],
      "metadata": {
        "id": "ccMPP7_P6Bnd"
      }
    },
    {
      "cell_type": "code",
      "source": [
        "encuesta = {'Maria': True,\n",
        "            'Juan': True,\n",
        "            'Santiago': False,\n",
        "            'Luis': False,\n",
        "            'Ana': True}"
      ],
      "metadata": {
        "id": "wQaAnYaN6Ivm"
      },
      "execution_count": 3,
      "outputs": []
    },
    {
      "cell_type": "code",
      "source": [
        "for nombre, realizado in encuesta.items():\n",
        "  if realizado == True:\n",
        "    print(f'{nombre} gracias por responder la encuesta')\n",
        "  else:\n",
        "    print(f'{nombre} por favor realiza la encuesta')"
      ],
      "metadata": {
        "id": "SbeGrnzMV_Eg",
        "outputId": "bf2f324e-31e1-4ccf-cef0-14c5a9ccdcde",
        "colab": {
          "base_uri": "https://localhost:8080/"
        }
      },
      "execution_count": 4,
      "outputs": [
        {
          "output_type": "stream",
          "name": "stdout",
          "text": [
            "Maria gracias por responder la encuesta\n",
            "Juan gracias por responder la encuesta\n",
            "Santiago por favor realiza la encuesta\n",
            "Luis por favor realiza la encuesta\n",
            "Ana gracias por responder la encuesta\n"
          ]
        }
      ]
    },
    {
      "cell_type": "markdown",
      "source": [
        "# **Una lista en un diccionario**"
      ],
      "metadata": {
        "id": "Goh6GAKM-tap"
      }
    },
    {
      "cell_type": "markdown",
      "source": [
        "**Ejercicio 1**\n",
        "\n",
        "Cree tres nuevos diccionarios que representen a diferentes personas y almacene los tres diccionarios en una lista llamada personas. Recorra su lista de personas. Mientras recorre la lista, imprima todo lo que sabe sobre cada persona."
      ],
      "metadata": {
        "id": "7INJk4Oh-uy1"
      }
    },
    {
      "cell_type": "code",
      "source": [
        "persona_1 = {'Nombre': 'Luis', 'Edad': 24, 'Carrera': 'Ingeniería Civil'}\n",
        "persona_2 = {'Nombre': 'Daniela', 'Edad': 22, 'Carrera': 'Marketing'}\n",
        "persona_3 = {'Nombre': 'Lucía', 'Edad': 18, 'Carrera': 'Medicina'}\n",
        "\n",
        "personas = [persona_1, persona_2, persona_3]"
      ],
      "metadata": {
        "id": "GfpsZQcM_rBZ"
      },
      "execution_count": 5,
      "outputs": []
    },
    {
      "cell_type": "code",
      "source": [
        "for persona in personas:\n",
        "  print(f\"{persona['Nombre']} tiene {persona['Edad']} años y estudia {persona['Carrera']}\")"
      ],
      "metadata": {
        "id": "A25AxOShZR0v",
        "outputId": "7b73940c-1887-40a6-82ae-a07a1dc2f053",
        "colab": {
          "base_uri": "https://localhost:8080/"
        }
      },
      "execution_count": 8,
      "outputs": [
        {
          "output_type": "stream",
          "name": "stdout",
          "text": [
            "Luis tiene 24 años y estudia Ingeniería Civil\n",
            "Daniela tiene 22 años y estudia Marketing\n",
            "Lucía tiene 18 años y estudia Medicina\n"
          ]
        }
      ]
    },
    {
      "cell_type": "markdown",
      "source": [
        "**Ejercicio 2**\n",
        "\n",
        "Haga varios diccionarios, donde cada diccionario represente una mascota diferente. En cada diccionario, incluya el tipo de animal y el nombre del dueño. Guarde estos diccionarios en una lista llamada mascotas. A continuación, recorra su lista y, mientras lo hace, imprima todo lo que sepa sobre cada mascota."
      ],
      "metadata": {
        "id": "lK4Iz8Md-xsb"
      }
    },
    {
      "cell_type": "code",
      "source": [
        "mascota_1 = {'Animal': 'gato', 'Dueño': 'Luis'}\n",
        "mascota_2 = {'Animal': 'perro', 'Dueño': 'Daniela'}\n",
        "mascota_3 = {'Animal': 'erizo', 'Dueño': 'Lucía'}\n",
        "\n",
        "mascotas = [mascota_1, mascota_2, mascota_3]"
      ],
      "metadata": {
        "id": "hElUC1JX_rUw"
      },
      "execution_count": 11,
      "outputs": []
    },
    {
      "cell_type": "code",
      "source": [
        "for mascota in mascotas:\n",
        "  print(f\"{mascota['Dueño']} tiene un {mascota['Animal']}\")"
      ],
      "metadata": {
        "id": "klC-Pys4bda0",
        "outputId": "57f0e21f-4364-41e5-c805-6cb6de55173c",
        "colab": {
          "base_uri": "https://localhost:8080/"
        }
      },
      "execution_count": 12,
      "outputs": [
        {
          "output_type": "stream",
          "name": "stdout",
          "text": [
            "Luis tiene un gato\n",
            "Daniela tiene un perro\n",
            "Lucía tiene un erizo\n"
          ]
        }
      ]
    },
    {
      "cell_type": "markdown",
      "source": [
        "**Ejercicio 3**\n",
        "\n",
        "Haga un diccionario llamado lugares_favoritos. Piense en tres nombres para usar como llaves en el diccionario y almacene de uno a tres lugares favoritos para cada persona. Recorre el diccionario e imprime el nombre de cada persona y sus lugares favoritos."
      ],
      "metadata": {
        "id": "_booXJGH-z8N"
      }
    },
    {
      "cell_type": "code",
      "source": [
        "lugares_favoritos = {'Luis': ['Lima', 'Cusco'],\n",
        "                     'Daniela': ['Lima', 'Cusco', 'Cancún'],\n",
        "                     'Lucía': ['Lima']}"
      ],
      "metadata": {
        "id": "IRxuUZoR_rq9"
      },
      "execution_count": 23,
      "outputs": []
    },
    {
      "cell_type": "code",
      "source": [
        "for nombre, lugares in lugares_favoritos.items():\n",
        "  print(f'\\nLos lugares favoritos de {nombre} son:')\n",
        "\n",
        "  for lugar in lugares:\n",
        "    print(f'\\t{lugar}')"
      ],
      "metadata": {
        "id": "jEUDbLegck8c",
        "outputId": "0ce045b2-fc38-42a0-cdca-097d894ed528",
        "colab": {
          "base_uri": "https://localhost:8080/"
        }
      },
      "execution_count": 32,
      "outputs": [
        {
          "output_type": "stream",
          "name": "stdout",
          "text": [
            "\n",
            "Los lugares favoritos de Luis son:\n",
            "\tLima\n",
            "\tCusco\n",
            "\n",
            "Los lugares favoritos de Daniela son:\n",
            "\tLima\n",
            "\tCusco\n",
            "\tCancún\n",
            "\n",
            "Los lugares favoritos de Lucía son:\n",
            "\tLima\n"
          ]
        }
      ]
    },
    {
      "cell_type": "markdown",
      "source": [
        "**Ejercicio 4**\n",
        "\n",
        "Haz un diccionario llamado ciudades. Usa los nombres de tres ciudades como llaves en tu diccionario. Cree un diccionario de información sobre cada ciudad e incluya el país en el que se encuentra la ciudad, su población aproximada y un dato sobre esa ciudad. Las claves para el diccionario de cada ciudad deben ser algo como país, población y hecho. Imprime el nombre de cada ciudad y toda la información que tengas almacenada sobre ella."
      ],
      "metadata": {
        "id": "Sxw7emSK-15z"
      }
    },
    {
      "cell_type": "code",
      "source": [
        "ciudades = {'Lima': ['Perú', 9674755, 'La ciudad de los reyes'],\n",
        "            'Arequipa': ['Perú', 1008000, 'La ciudad blanca'],\n",
        "            'Buenos Aires': ['Argentina', 17541141, 'Capital Federal']}"
      ],
      "metadata": {
        "id": "_dPw4snv_sA0"
      },
      "execution_count": 33,
      "outputs": []
    },
    {
      "cell_type": "code",
      "source": [
        "for ciudad, datos in ciudades.items():\n",
        "  print(f'\\n{ciudad} (País, Población, Seudónimo)')\n",
        "\n",
        "  for dato in datos:\n",
        "    print(f'\\t{dato}')"
      ],
      "metadata": {
        "id": "gGFJZNOch5ee",
        "outputId": "8a569353-ba14-40a9-c059-e3498dd70189",
        "colab": {
          "base_uri": "https://localhost:8080/"
        }
      },
      "execution_count": 44,
      "outputs": [
        {
          "output_type": "stream",
          "name": "stdout",
          "text": [
            "\n",
            "Lima (País, Población, Seudónimo)\n",
            "\tPerú\n",
            "\t9674755\n",
            "\tLa ciudad de los reyes\n",
            "\n",
            "Arequipa (País, Población, Seudónimo)\n",
            "\tPerú\n",
            "\t1008000\n",
            "\tLa ciudad blanca\n",
            "\n",
            "Buenos Aires (País, Población, Seudónimo)\n",
            "\tArgentina\n",
            "\t17541141\n",
            "\tCapital Federal\n"
          ]
        }
      ]
    },
    {
      "cell_type": "markdown",
      "source": [
        "**Ejercicio 5**\n",
        "\n",
        "Ahora estamos trabajando con ejemplos que son lo suficientemente complejos como para que puedan extenderse de varias maneras. Utilice uno de los programas de este laboratorio y amplíelo agregando nuevas claves y valores, cambiando el contexto del programa o mejorando el formato de la salida."
      ],
      "metadata": {
        "id": "tCy7O0w1-4uZ"
      }
    },
    {
      "cell_type": "code",
      "source": [
        "for ciudad, datos in ciudades.items():\n",
        "  print(ciudad)\n",
        "\n",
        "  i = 1\n",
        "\n",
        "  for dato in datos:\n",
        "    if i == 1:\n",
        "      print(f'\\tPaís: {dato}')\n",
        "      i = i+1\n",
        "      continue\n",
        "    elif i == 2:\n",
        "      print(f'\\tPoblación: {dato}')\n",
        "      i = i+1\n",
        "      continue\n",
        "    elif i == 3:\n",
        "      print(f'\\tSeudónimo: {dato}\\n')"
      ],
      "metadata": {
        "id": "nSXMSZrO_sWF",
        "outputId": "c6695792-bb35-4310-93f6-3a27c4bbcddb",
        "colab": {
          "base_uri": "https://localhost:8080/"
        }
      },
      "execution_count": 45,
      "outputs": [
        {
          "output_type": "stream",
          "name": "stdout",
          "text": [
            "Lima\n",
            "\tPaís: Perú\n",
            "\tPoblación: 9674755\n",
            "\tSeudónimo: La ciudad de los reyes\n",
            "\n",
            "Arequipa\n",
            "\tPaís: Perú\n",
            "\tPoblación: 1008000\n",
            "\tSeudónimo: La ciudad blanca\n",
            "\n",
            "Buenos Aires\n",
            "\tPaís: Argentina\n",
            "\tPoblación: 17541141\n",
            "\tSeudónimo: Capital Federal\n",
            "\n"
          ]
        }
      ]
    }
  ]
}